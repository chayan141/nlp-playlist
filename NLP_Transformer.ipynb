{
  "nbformat": 4,
  "nbformat_minor": 0,
  "metadata": {
    "colab": {
      "provenance": [],
      "authorship_tag": "ABX9TyNrcSzuZd1t5rDh/d/V64QT",
      "include_colab_link": true
    },
    "kernelspec": {
      "name": "python3",
      "display_name": "Python 3"
    },
    "language_info": {
      "name": "python"
    }
  },
  "cells": [
    {
      "cell_type": "markdown",
      "metadata": {
        "id": "view-in-github",
        "colab_type": "text"
      },
      "source": [
        "<a href=\"https://colab.research.google.com/github/chayan141/nlp-playlist/blob/main/NLP_Transformer.ipynb\" target=\"_parent\"><img src=\"https://colab.research.google.com/assets/colab-badge.svg\" alt=\"Open In Colab\"/></a>"
      ]
    },
    {
      "cell_type": "markdown",
      "source": [
        "# Learning Rate Scheduling"
      ],
      "metadata": {
        "id": "DnX9PI_js-W4"
      }
    },
    {
      "cell_type": "markdown",
      "source": [
        "Learning rate scheduling is a technique used in training machine learning models, particularly neural networks, to dynamically adjust the learning rate during training. The learning rate is a hyperparameter that controls how much the model's parameters (e.g., weights) are updated in response to the gradient of the loss function during optimization."
      ],
      "metadata": {
        "id": "oJ5GIGmjtHeH"
      }
    },
    {
      "cell_type": "markdown",
      "source": [
        "Early Training: A larger learning rate can help the model explore the parameter space quickly and escape suboptimal local minima."
      ],
      "metadata": {
        "id": "-mqk2zdrtN1y"
      }
    },
    {
      "cell_type": "markdown",
      "source": [
        "Later training: A smaller learning rate allows the model to make finer adjustment and converging more precisely."
      ],
      "metadata": {
        "id": "MpI1SDBstbn8"
      }
    },
    {
      "cell_type": "markdown",
      "source": [
        "Methods:\n",
        "\n",
        "1. Step decay: The learning rate is reduced by a fixed factor after a specified number of epochs or iterations.\n",
        "\n",
        "  Example: learning rate is reduced by half for every 10 epoch.\n",
        "\n",
        "2. Exponential Decay: Learning rate decreses exponentially over time. for smooth convergence.\n",
        "\n",
        "3. Polynomial Decay: The learning rate decreases according to a polynomial function, often used in linear or power-law decay.\n",
        "\n",
        "4. Cosine Annealing: The learning rate follows a cosine function, decreasing gradually at first, then rapidly, and slowing down again.\n",
        "\n",
        "4. ReduceLRon Plateau: The learning rate is reduced when a monitored metric (e.g., validation loss) stops improving (plateaus)."
      ],
      "metadata": {
        "id": "vJ1OJNtAt4hU"
      }
    },
    {
      "cell_type": "code",
      "execution_count": 1,
      "metadata": {
        "id": "Rkrvni6krVYl"
      },
      "outputs": [],
      "source": [
        "import tensorflow as tf\n",
        "from tensorflow.keras.models import Sequential\n",
        "from tensorflow.keras.layers import Dense\n",
        "from tensorflow.keras.optimizers import SGD\n",
        "from tensorflow.keras.optimizers.schedules import ExponentialDecay\n",
        "from tensorflow.keras.callbacks import ReduceLROnPlateau, CSVLogger\n",
        "from sklearn.datasets import load_iris\n",
        "from sklearn.model_selection import train_test_split\n",
        "from sklearn.preprocessing import StandardScaler\n",
        "import numpy as np\n",
        "import matplotlib.pyplot as plt\n",
        "import pandas as pd"
      ]
    },
    {
      "cell_type": "code",
      "source": [],
      "metadata": {
        "id": "TOkz8Y5CwP_w"
      },
      "execution_count": null,
      "outputs": []
    }
  ]
}