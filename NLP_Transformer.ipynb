{
  "nbformat": 4,
  "nbformat_minor": 0,
  "metadata": {
    "colab": {
      "provenance": [],
      "authorship_tag": "ABX9TyMaM0xZqHGnlZrJK5+QZ8Fh",
      "include_colab_link": true
    },
    "kernelspec": {
      "name": "python3",
      "display_name": "Python 3"
    },
    "language_info": {
      "name": "python"
    }
  },
  "cells": [
    {
      "cell_type": "markdown",
      "metadata": {
        "id": "view-in-github",
        "colab_type": "text"
      },
      "source": [
        "<a href=\"https://colab.research.google.com/github/chayan141/nlp-playlist/blob/main/NLP_Transformer.ipynb\" target=\"_parent\"><img src=\"https://colab.research.google.com/assets/colab-badge.svg\" alt=\"Open In Colab\"/></a>"
      ]
    },
    {
      "cell_type": "markdown",
      "source": [
        "# Learning Rate Scheduling"
      ],
      "metadata": {
        "id": "DnX9PI_js-W4"
      }
    },
    {
      "cell_type": "markdown",
      "source": [
        "Learning rate scheduling is a technique used in training machine learning models, particularly neural networks, to dynamically adjust the learning rate during training. The learning rate is a hyperparameter that controls how much the model's parameters (e.g., weights) are updated in response to the gradient of the loss function during optimization."
      ],
      "metadata": {
        "id": "oJ5GIGmjtHeH"
      }
    },
    {
      "cell_type": "markdown",
      "source": [
        "Early Training: A larger learning rate can help the model explore the parameter space quickly and escape suboptimal local minima."
      ],
      "metadata": {
        "id": "-mqk2zdrtN1y"
      }
    },
    {
      "cell_type": "markdown",
      "source": [
        "Later training: A smaller learning rate allows the model to make finer adjustment and converging more precisely."
      ],
      "metadata": {
        "id": "MpI1SDBstbn8"
      }
    },
    {
      "cell_type": "markdown",
      "source": [
        "Methods:\n",
        "\n",
        "1. Step decay: The learning rate is reduced by a fixed factor after a specified number of epochs or iterations.\n",
        "\n",
        "  Example: learning rate is reduced by half for every 10 epoch.\n",
        "\n",
        "2. Exponential Decay: Learning rate decreses exponentially over time. for smooth convergence.\n",
        "\n",
        "3. Polynomial Decay: The learning rate decreases according to a polynomial function, often used in linear or power-law decay.\n",
        "\n",
        "4. Cosine Annealing: The learning rate follows a cosine function, decreasing gradually at first, then rapidly, and slowing down again.\n",
        "\n",
        "4. ReduceLRon Plateau: The learning rate is reduced when a monitored metric (e.g., validation loss) stops improving (plateaus)."
      ],
      "metadata": {
        "id": "vJ1OJNtAt4hU"
      }
    },
    {
      "cell_type": "code",
      "execution_count": 1,
      "metadata": {
        "id": "Rkrvni6krVYl"
      },
      "outputs": [],
      "source": [
        "import tensorflow as tf\n",
        "from tensorflow.keras.models import Sequential\n",
        "from tensorflow.keras.layers import Dense\n",
        "from tensorflow.keras.optimizers import SGD\n",
        "from tensorflow.keras.optimizers.schedules import ExponentialDecay\n",
        "from tensorflow.keras.callbacks import ReduceLROnPlateau, CSVLogger\n",
        "from sklearn.datasets import load_iris\n",
        "from sklearn.model_selection import train_test_split\n",
        "from sklearn.preprocessing import StandardScaler\n",
        "import numpy as np\n",
        "import matplotlib.pyplot as plt\n",
        "import pandas as pd"
      ]
    },
    {
      "cell_type": "code",
      "source": [
        "# Load Iris dataset\n",
        "iris = load_iris()\n",
        "X = iris.data\n",
        "y = iris.target\n",
        "\n",
        "# Convert to binary classification (class 0 vs. others) for simplicity\n",
        "y = (y == 0).astype(int)  # 1 if Iris-setosa, 0 otherwise\n",
        "\n",
        "# Split into training and validation sets\n",
        "X_train, X_val, y_train, y_val = train_test_split(X, y, test_size=0.2, random_state=42)\n",
        "\n",
        "# Standardize features\n",
        "scaler = StandardScaler()\n",
        "X_train = scaler.fit_transform(X_train)\n",
        "X_val = scaler.transform(X_val)"
      ],
      "metadata": {
        "id": "TOkz8Y5CwP_w"
      },
      "execution_count": 2,
      "outputs": []
    },
    {
      "cell_type": "code",
      "source": [
        "# Define a simple neural network\n",
        "model = Sequential([\n",
        "    Dense(16, activation='relu', input_shape=(X_train.shape[1],)),\n",
        "    Dense(8, activation='relu'),\n",
        "    Dense(1, activation='sigmoid')\n",
        "])"
      ],
      "metadata": {
        "colab": {
          "base_uri": "https://localhost:8080/",
          "height": 0
        },
        "id": "fJ_M8O7_wdr9",
        "outputId": "d41f95bd-65e5-4755-b805-4b0e8d627d25"
      },
      "execution_count": 3,
      "outputs": [
        {
          "output_type": "stream",
          "name": "stderr",
          "text": [
            "/usr/local/lib/python3.11/dist-packages/keras/src/layers/core/dense.py:87: UserWarning: Do not pass an `input_shape`/`input_dim` argument to a layer. When using Sequential models, prefer using an `Input(shape)` object as the first layer in the model instead.\n",
            "  super().__init__(activity_regularizer=activity_regularizer, **kwargs)\n"
          ]
        }
      ]
    },
    {
      "cell_type": "markdown",
      "source": [
        "ExponentialDecay: A predefined schedule to decay the learning rate exponentially.\n",
        "\n",
        "\n",
        "ReduceLROnPlateau: An adaptive schedule to reduce the learning rate when validation loss plateaus."
      ],
      "metadata": {
        "id": "VcAa9Oq-wmTX"
      }
    },
    {
      "cell_type": "code",
      "source": [
        "# Define ExponentialDecay schedule\n",
        "initial_learning_rate = 0.1\n",
        "lr_schedule = ExponentialDecay(\n",
        "    initial_learning_rate=initial_learning_rate,\n",
        "    decay_steps=1000,  # Decay after 1000 steps (iterations)\n",
        "    decay_rate=0.9,    # Reduce learning rate by 10% per decay step\n",
        "    staircase=False     # Continuous decay\n",
        ")"
      ],
      "metadata": {
        "id": "44IhLscmwi3s"
      },
      "execution_count": 4,
      "outputs": []
    },
    {
      "cell_type": "code",
      "source": [
        "# Define optimizer with the schedule\n",
        "optimizer = SGD(learning_rate=lr_schedule)"
      ],
      "metadata": {
        "id": "2OLQzSvUwvFs"
      },
      "execution_count": 5,
      "outputs": []
    },
    {
      "cell_type": "code",
      "source": [
        "# Define ReduceLROnPlateau callback\n",
        "reduce_lr = ReduceLROnPlateau(\n",
        "    monitor='val_loss',  # Monitor validation loss\n",
        "    factor=0.2,          # Reduce learning rate by a factor of 0.2\n",
        "    patience=5,          # Wait 5 epochs before reducing\n",
        "    min_lr=0.0001,       # Minimum learning rate\n",
        "    verbose=1            # Print when learning rate is reduced\n",
        ")"
      ],
      "metadata": {
        "id": "LEs_K3aewz7S"
      },
      "execution_count": 6,
      "outputs": []
    },
    {
      "cell_type": "code",
      "source": [
        "# Optional: CSVLogger to track learning rate and metrics\n",
        "csv_logger = CSVLogger('training_log.csv')"
      ],
      "metadata": {
        "id": "Ai_pPixYw826"
      },
      "execution_count": 7,
      "outputs": []
    },
    {
      "cell_type": "code",
      "source": [
        "# Compile the model\n",
        "model.compile(optimizer=optimizer, loss='binary_crossentropy', metrics=['accuracy'])\n",
        "model.summary()"
      ],
      "metadata": {
        "colab": {
          "base_uri": "https://localhost:8080/",
          "height": 225
        },
        "id": "q0jm1H3XxVfn",
        "outputId": "b0870cc8-ba7b-40b0-96a8-47443f783d58"
      },
      "execution_count": 8,
      "outputs": [
        {
          "output_type": "display_data",
          "data": {
            "text/plain": [
              "\u001b[1mModel: \"sequential\"\u001b[0m\n"
            ],
            "text/html": [
              "<pre style=\"white-space:pre;overflow-x:auto;line-height:normal;font-family:Menlo,'DejaVu Sans Mono',consolas,'Courier New',monospace\"><span style=\"font-weight: bold\">Model: \"sequential\"</span>\n",
              "</pre>\n"
            ]
          },
          "metadata": {}
        },
        {
          "output_type": "display_data",
          "data": {
            "text/plain": [
              "┏━━━━━━━━━━━━━━━━━━━━━━━━━━━━━━━━━┳━━━━━━━━━━━━━━━━━━━━━━━━┳━━━━━━━━━━━━━━━┓\n",
              "┃\u001b[1m \u001b[0m\u001b[1mLayer (type)                   \u001b[0m\u001b[1m \u001b[0m┃\u001b[1m \u001b[0m\u001b[1mOutput Shape          \u001b[0m\u001b[1m \u001b[0m┃\u001b[1m \u001b[0m\u001b[1m      Param #\u001b[0m\u001b[1m \u001b[0m┃\n",
              "┡━━━━━━━━━━━━━━━━━━━━━━━━━━━━━━━━━╇━━━━━━━━━━━━━━━━━━━━━━━━╇━━━━━━━━━━━━━━━┩\n",
              "│ dense (\u001b[38;5;33mDense\u001b[0m)                   │ (\u001b[38;5;45mNone\u001b[0m, \u001b[38;5;34m16\u001b[0m)             │            \u001b[38;5;34m80\u001b[0m │\n",
              "├─────────────────────────────────┼────────────────────────┼───────────────┤\n",
              "│ dense_1 (\u001b[38;5;33mDense\u001b[0m)                 │ (\u001b[38;5;45mNone\u001b[0m, \u001b[38;5;34m8\u001b[0m)              │           \u001b[38;5;34m136\u001b[0m │\n",
              "├─────────────────────────────────┼────────────────────────┼───────────────┤\n",
              "│ dense_2 (\u001b[38;5;33mDense\u001b[0m)                 │ (\u001b[38;5;45mNone\u001b[0m, \u001b[38;5;34m1\u001b[0m)              │             \u001b[38;5;34m9\u001b[0m │\n",
              "└─────────────────────────────────┴────────────────────────┴───────────────┘\n"
            ],
            "text/html": [
              "<pre style=\"white-space:pre;overflow-x:auto;line-height:normal;font-family:Menlo,'DejaVu Sans Mono',consolas,'Courier New',monospace\">┏━━━━━━━━━━━━━━━━━━━━━━━━━━━━━━━━━┳━━━━━━━━━━━━━━━━━━━━━━━━┳━━━━━━━━━━━━━━━┓\n",
              "┃<span style=\"font-weight: bold\"> Layer (type)                    </span>┃<span style=\"font-weight: bold\"> Output Shape           </span>┃<span style=\"font-weight: bold\">       Param # </span>┃\n",
              "┡━━━━━━━━━━━━━━━━━━━━━━━━━━━━━━━━━╇━━━━━━━━━━━━━━━━━━━━━━━━╇━━━━━━━━━━━━━━━┩\n",
              "│ dense (<span style=\"color: #0087ff; text-decoration-color: #0087ff\">Dense</span>)                   │ (<span style=\"color: #00d7ff; text-decoration-color: #00d7ff\">None</span>, <span style=\"color: #00af00; text-decoration-color: #00af00\">16</span>)             │            <span style=\"color: #00af00; text-decoration-color: #00af00\">80</span> │\n",
              "├─────────────────────────────────┼────────────────────────┼───────────────┤\n",
              "│ dense_1 (<span style=\"color: #0087ff; text-decoration-color: #0087ff\">Dense</span>)                 │ (<span style=\"color: #00d7ff; text-decoration-color: #00d7ff\">None</span>, <span style=\"color: #00af00; text-decoration-color: #00af00\">8</span>)              │           <span style=\"color: #00af00; text-decoration-color: #00af00\">136</span> │\n",
              "├─────────────────────────────────┼────────────────────────┼───────────────┤\n",
              "│ dense_2 (<span style=\"color: #0087ff; text-decoration-color: #0087ff\">Dense</span>)                 │ (<span style=\"color: #00d7ff; text-decoration-color: #00d7ff\">None</span>, <span style=\"color: #00af00; text-decoration-color: #00af00\">1</span>)              │             <span style=\"color: #00af00; text-decoration-color: #00af00\">9</span> │\n",
              "└─────────────────────────────────┴────────────────────────┴───────────────┘\n",
              "</pre>\n"
            ]
          },
          "metadata": {}
        },
        {
          "output_type": "display_data",
          "data": {
            "text/plain": [
              "\u001b[1m Total params: \u001b[0m\u001b[38;5;34m225\u001b[0m (900.00 B)\n"
            ],
            "text/html": [
              "<pre style=\"white-space:pre;overflow-x:auto;line-height:normal;font-family:Menlo,'DejaVu Sans Mono',consolas,'Courier New',monospace\"><span style=\"font-weight: bold\"> Total params: </span><span style=\"color: #00af00; text-decoration-color: #00af00\">225</span> (900.00 B)\n",
              "</pre>\n"
            ]
          },
          "metadata": {}
        },
        {
          "output_type": "display_data",
          "data": {
            "text/plain": [
              "\u001b[1m Trainable params: \u001b[0m\u001b[38;5;34m225\u001b[0m (900.00 B)\n"
            ],
            "text/html": [
              "<pre style=\"white-space:pre;overflow-x:auto;line-height:normal;font-family:Menlo,'DejaVu Sans Mono',consolas,'Courier New',monospace\"><span style=\"font-weight: bold\"> Trainable params: </span><span style=\"color: #00af00; text-decoration-color: #00af00\">225</span> (900.00 B)\n",
              "</pre>\n"
            ]
          },
          "metadata": {}
        },
        {
          "output_type": "display_data",
          "data": {
            "text/plain": [
              "\u001b[1m Non-trainable params: \u001b[0m\u001b[38;5;34m0\u001b[0m (0.00 B)\n"
            ],
            "text/html": [
              "<pre style=\"white-space:pre;overflow-x:auto;line-height:normal;font-family:Menlo,'DejaVu Sans Mono',consolas,'Courier New',monospace\"><span style=\"font-weight: bold\"> Non-trainable params: </span><span style=\"color: #00af00; text-decoration-color: #00af00\">0</span> (0.00 B)\n",
              "</pre>\n"
            ]
          },
          "metadata": {}
        }
      ]
    },
    {
      "cell_type": "code",
      "source": [
        "# Train the model\n",
        "history = model.fit(\n",
        "    X_train, y_train,\n",
        "    validation_data=(X_val, y_val),\n",
        "    epochs=10,\n",
        "    batch_size=16,\n",
        "    callbacks=[reduce_lr, csv_logger],\n",
        "    verbose=1\n",
        ")"
      ],
      "metadata": {
        "colab": {
          "base_uri": "https://localhost:8080/",
          "height": 0
        },
        "id": "rPRys69NxApx",
        "outputId": "55e90376-10a7-40c3-93f7-bea51582bf9c"
      },
      "execution_count": 9,
      "outputs": [
        {
          "output_type": "stream",
          "name": "stdout",
          "text": [
            "Epoch 1/10\n",
            "\u001b[1m8/8\u001b[0m \u001b[32m━━━━━━━━━━━━━━━━━━━━\u001b[0m\u001b[37m\u001b[0m \u001b[1m2s\u001b[0m 71ms/step - accuracy: 0.8199 - loss: 0.5217 - val_accuracy: 0.9667 - val_loss: 0.4074 - learning_rate: 0.0999\n",
            "Epoch 2/10\n",
            "\u001b[1m8/8\u001b[0m \u001b[32m━━━━━━━━━━━━━━━━━━━━\u001b[0m\u001b[37m\u001b[0m \u001b[1m0s\u001b[0m 47ms/step - accuracy: 0.9389 - loss: 0.3833 - val_accuracy: 1.0000 - val_loss: 0.3136 - learning_rate: 0.0998\n",
            "Epoch 3/10\n",
            "\u001b[1m8/8\u001b[0m \u001b[32m━━━━━━━━━━━━━━━━━━━━\u001b[0m\u001b[37m\u001b[0m \u001b[1m1s\u001b[0m 49ms/step - accuracy: 0.9682 - loss: 0.2995 - val_accuracy: 1.0000 - val_loss: 0.2394 - learning_rate: 0.0997\n",
            "Epoch 4/10\n",
            "\u001b[1m8/8\u001b[0m \u001b[32m━━━━━━━━━━━━━━━━━━━━\u001b[0m\u001b[37m\u001b[0m \u001b[1m1s\u001b[0m 53ms/step - accuracy: 0.9946 - loss: 0.2360 - val_accuracy: 1.0000 - val_loss: 0.1741 - learning_rate: 0.0997\n",
            "Epoch 5/10\n",
            "\u001b[1m8/8\u001b[0m \u001b[32m━━━━━━━━━━━━━━━━━━━━\u001b[0m\u001b[37m\u001b[0m \u001b[1m0s\u001b[0m 30ms/step - accuracy: 0.9801 - loss: 0.1776 - val_accuracy: 1.0000 - val_loss: 0.1229 - learning_rate: 0.0996\n",
            "Epoch 6/10\n",
            "\u001b[1m8/8\u001b[0m \u001b[32m━━━━━━━━━━━━━━━━━━━━\u001b[0m\u001b[37m\u001b[0m \u001b[1m0s\u001b[0m 40ms/step - accuracy: 0.9871 - loss: 0.1231 - val_accuracy: 1.0000 - val_loss: 0.0865 - learning_rate: 0.0995\n",
            "Epoch 7/10\n",
            "\u001b[1m8/8\u001b[0m \u001b[32m━━━━━━━━━━━━━━━━━━━━\u001b[0m\u001b[37m\u001b[0m \u001b[1m0s\u001b[0m 46ms/step - accuracy: 1.0000 - loss: 0.0844 - val_accuracy: 1.0000 - val_loss: 0.0631 - learning_rate: 0.0994\n",
            "Epoch 8/10\n",
            "\u001b[1m8/8\u001b[0m \u001b[32m━━━━━━━━━━━━━━━━━━━━\u001b[0m\u001b[37m\u001b[0m \u001b[1m0s\u001b[0m 17ms/step - accuracy: 1.0000 - loss: 0.0551 - val_accuracy: 1.0000 - val_loss: 0.0470 - learning_rate: 0.0993\n",
            "Epoch 9/10\n",
            "\u001b[1m8/8\u001b[0m \u001b[32m━━━━━━━━━━━━━━━━━━━━\u001b[0m\u001b[37m\u001b[0m \u001b[1m0s\u001b[0m 19ms/step - accuracy: 1.0000 - loss: 0.0424 - val_accuracy: 1.0000 - val_loss: 0.0365 - learning_rate: 0.0992\n",
            "Epoch 10/10\n",
            "\u001b[1m8/8\u001b[0m \u001b[32m━━━━━━━━━━━━━━━━━━━━\u001b[0m\u001b[37m\u001b[0m \u001b[1m0s\u001b[0m 30ms/step - accuracy: 1.0000 - loss: 0.0416 - val_accuracy: 1.0000 - val_loss: 0.0296 - learning_rate: 0.0992\n"
          ]
        }
      ]
    },
    {
      "cell_type": "code",
      "source": [
        "# Function to compute learning rate for ExponentialDecay\n",
        "def get_lr_for_epoch(epoch, steps_per_epoch, initial_lr=0.1, decay_steps=1000, decay_rate=0.9):\n",
        "    steps = epoch * steps_per_epoch\n",
        "    lr = initial_lr * (decay_rate ** (steps / decay_steps))\n",
        "    return lr\n",
        "\n",
        "# Calculate steps per epoch\n",
        "steps_per_epoch = len(X_train) // 16  # batch_size = 16\n",
        "\n",
        "# Generate learning rates for plotting\n",
        "epochs = range(50)\n",
        "lrs = [get_lr_for_epoch(e, steps_per_epoch) for e in epochs]\n",
        "\n",
        "# Plot loss and learning rate\n",
        "plt.figure(figsize=(12, 5))\n",
        "\n",
        "# Plot training and validation loss\n",
        "plt.subplot(1, 2, 1)\n",
        "plt.plot(history.history['loss'], label='Training Loss')\n",
        "plt.plot(history.history['val_loss'], label='Validation Loss')\n",
        "plt.title('Training and Validation Loss')\n",
        "plt.xlabel('Epoch')\n",
        "plt.ylabel('Loss')\n",
        "plt.legend()\n",
        "\n",
        "# Plot learning rate\n",
        "plt.subplot(1, 2, 2)\n",
        "plt.plot(epochs, lrs, label='Learning Rate (ExponentialDecay)')\n",
        "plt.title('Learning Rate Schedule')\n",
        "plt.xlabel('Epoch')\n",
        "plt.ylabel('Learning Rate')\n",
        "plt.legend()\n",
        "\n",
        "plt.tight_layout()\n",
        "plt.show()"
      ],
      "metadata": {
        "colab": {
          "base_uri": "https://localhost:8080/",
          "height": 318
        },
        "id": "0Ge4mhh2xd-D",
        "outputId": "4feaa8d3-fde0-4004-b23a-ca2ce1c47d30"
      },
      "execution_count": 10,
      "outputs": [
        {
          "output_type": "display_data",
          "data": {
            "text/plain": [
              "<Figure size 1200x500 with 2 Axes>"
            ],
            "image/png": "[encoded data removed]"
          },
          "metadata": {}
        }
      ]
    },
    {
      "cell_type": "markdown",
      "source": [
        "## Difference between GPT and BERT"
      ],
      "metadata": {
        "id": "47VnFWQ4x_zn"
      }
    },
    {
      "cell_type": "markdown",
      "source": [
        "GPT:\n",
        "\n",
        "1. Decoder only transformer.\n",
        "2. GPT uses a decoder-only transformer architecture, processing text in a left-to-right, autoregressive manner.(Unidirectional)\n",
        "\n",
        "3. It is a generative model. Designed for generating text by predicting the next token in a sequence.\n",
        "\n",
        "4. GPT is trained as CLM (Casual language modelling). Trained to predict the next word in a sequence give the previous word. (autoregressive).\n",
        "\n",
        "5. Useful for generative tasks. Sequential output is needed.like chatbot.\n",
        "\n",
        "6. Outputs probability distribution\n",
        "\n",
        "\n"
      ],
      "metadata": {
        "id": "poksM6jGy2ml"
      }
    },
    {
      "cell_type": "markdown",
      "source": [
        "BERT:\n",
        "\n",
        "1. BERT uses an encoder-only transformer architecture, processing the entire input sequence simultaneously to capture context from both directions (left and right).(Bidirectional).\n",
        "\n",
        "2. Designed to understand text.\n",
        "\n",
        "3. Msked Language Modelling: Randomly masks some tokens in the input, and the model predicts the masked tokens based on bidirectional context.\n",
        "\n",
        "4. Used for Next sentence prediction, QNA, Embedding Generation. Used for deep contextual understanding.\n",
        "5. Outputs contextual embeddings."
      ],
      "metadata": {
        "id": "K1q4n1dR3Z2-"
      }
    },
    {
      "cell_type": "markdown",
      "source": [
        "BERT is trained on two methods ⁉\n",
        "1. MLM : Randomly masks 15% of the tokens in the input (Replasing them with a [MASK].) The model predicts the masked tokens based on bidirectional context. This helps bert to learn contextual relationahip.\n",
        "\n",
        "2. Next Sentence Prediction: Given two sentences, BERT predicts whether the second sentence follows the first (50% of the time, it does; 50% of the time, it’s a random sentence)."
      ],
      "metadata": {
        "id": "Mznmlpyn7B4A"
      }
    },
    {
      "cell_type": "markdown",
      "source": [
        "# Autoregressive"
      ],
      "metadata": {
        "id": "4ZZywpbd9Mm5"
      }
    },
    {
      "cell_type": "markdown",
      "source": [
        "Output at given time step depends on the previous outputs/inut sequence.\n",
        "\n",
        "\n",
        "autoregressive models generate or predict the next element in a sequence based on the elements that came before it, typically in a sequential, left-to-right manner."
      ],
      "metadata": {
        "id": "Vu3ailfg9XL_"
      }
    },
    {
      "cell_type": "markdown",
      "source": [
        "An autoregressive model in time series, predicts the next value in the series based on the linear combination of previous values."
      ],
      "metadata": {
        "id": "eyP_Veyl9vtz"
      }
    },
    {
      "cell_type": "markdown",
      "source": [
        "# Self Attention"
      ],
      "metadata": {
        "id": "UyswptIy-isW"
      }
    },
    {
      "cell_type": "markdown",
      "source": [
        "Global Context: Each token attends to all other tokens in the sequence, capturing long-range dependencies.\n",
        "\n",
        "Parallel Processing: Unlike RNNs, self-attention processes all tokens simultaneously, making it computationally efficient.\n",
        "\n",
        "Dynamic Weighting: Attention weights are computed dynamically based on the input, allowing the model to focus on relevant tokens for each context.\n",
        "\n",
        "It operates within a single sequence\n",
        "\n",
        "Captures relationship between all tokens in the same sequence.\n",
        "\n",
        "Q, K, V vector comes from same sequence.\n",
        "\n",
        "All to All attention: Each token attends every other tokens.\n",
        "\n",
        "Parallel processes entire sequence at once.\n",
        "\n",
        "Efficient for long sequence due to parralization.\n",
        "\n",
        "BERT: Bidirectional Self Attention\n",
        "GPT: Casual Self Attention (Self attention is modified with a casual mask to ensure that each token only attends to previous tokens (unidirectional), aligning with the autoregressive nature."
      ],
      "metadata": {
        "id": "gy5SlDmc_pQs"
      }
    },
    {
      "cell_type": "markdown",
      "source": [
        "# Cross Attention"
      ],
      "metadata": {
        "id": "Zc_Eo77OCfA9"
      }
    },
    {
      "cell_type": "markdown",
      "source": [
        "It is also called encoder - decoder attention."
      ],
      "metadata": {
        "id": "UqZgL5ZtCpDk"
      }
    },
    {
      "cell_type": "markdown",
      "source": [
        "Used in encoder-decoder architectures, where the encoder processes the input sequence (e.g., source sentence in translation) and the decoder generates the output (e.g., target sentence)."
      ],
      "metadata": {
        "id": "NmKn3ynzCydZ"
      }
    },
    {
      "cell_type": "markdown",
      "source": [
        "The attention mechanism allows the decoder to focus on relevant parts of the encoded input at each decoding step."
      ],
      "metadata": {
        "id": "5TFMQjhCC07t"
      }
    },
    {
      "cell_type": "markdown",
      "source": [
        "Mechenism:\n",
        "\n",
        "1. Encoder States: The encoder (e.g., an RNN or LSTM) produces a set of hidden states $ h_1, h_2, \\ldots, h_n $ for the input sequence.\n",
        "\n",
        "2. Decoder State: At each decoding step, the decoder has a hidden state $ s_t $.\n",
        "\n",
        "3. Alignment Scores: Compute alignment scores between the decoder’s current state $ s_t $ and each encoder state $ h_i $:\n",
        "\n",
        "4. Attention Weights: Normalize scores using softmax:\n",
        "\n",
        "5. Context Vector: Context Vector: Compute a context vector as a weighted sum of encoder states:\n",
        "\n"
      ],
      "metadata": {
        "id": "R7P5QHHwC8pR"
      }
    },
    {
      "cell_type": "markdown",
      "source": [
        "Operates between two sequences (encoder and decoder).\n",
        "\n",
        "Aligns source sequence (input) with target sequence (output).\n",
        "\n",
        "Queries from decoder, keys/values from encoder states.\n",
        "\n",
        "Used in RNN/LSTM-based encoder-decoder models.\n",
        "\n",
        "Limited by sequential RNN processing, less efficient. (No Parallization)\n",
        "\n",
        "Sequence-to-sequence tasks (e.g., translation, summarization)."
      ],
      "metadata": {
        "id": "Fm-CGzhPDtQm"
      }
    },
    {
      "cell_type": "code",
      "source": [],
      "metadata": {
        "id": "l5COFqqRxq-o"
      },
      "execution_count": null,
      "outputs": []
    }
  ]
}