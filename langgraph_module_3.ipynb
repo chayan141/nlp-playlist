{
  "nbformat": 4,
  "nbformat_minor": 0,
  "metadata": {
    "colab": {
      "provenance": [],
      "authorship_tag": "ABX9TyOek77XlZ7TqFu2ebVVt+7C",
      "include_colab_link": true
    },
    "kernelspec": {
      "name": "python3",
      "display_name": "Python 3"
    },
    "language_info": {
      "name": "python"
    }
  },
  "cells": [
    {
      "cell_type": "markdown",
      "metadata": {
        "id": "view-in-github",
        "colab_type": "text"
      },
      "source": [
        "<a href=\"https://colab.research.google.com/github/chayan141/nlp-playlist/blob/main/langgraph_module_3.ipynb\" target=\"_parent\"><img src=\"https://colab.research.google.com/assets/colab-badge.svg\" alt=\"Open In Colab\"/></a>"
      ]
    },
    {
      "cell_type": "markdown",
      "source": [
        "# Streaming Interruption"
      ],
      "metadata": {
        "id": "1pHjBL5-UnZL"
      }
    },
    {
      "cell_type": "markdown",
      "source": [
        "human-in-the-loop : Allows users to interact directly with the graph."
      ],
      "metadata": {
        "id": "FLR7Pzg1UwhR"
      }
    },
    {
      "cell_type": "code",
      "execution_count": null,
      "metadata": {
        "id": "TqXRP0pbURw7"
      },
      "outputs": [],
      "source": [
        "# %pip install -U langgraph langchain_openai langchain_core langchain_google_genai langgraph_sdk"
      ]
    },
    {
      "cell_type": "code",
      "source": [
        "# !pip install -U langchain-google-genai"
      ],
      "metadata": {
        "id": "R200u7BkVV_n"
      },
      "execution_count": null,
      "outputs": []
    },
    {
      "cell_type": "code",
      "source": [
        "from google.colab import userdata\n",
        "gemini = userdata.get('gemini_api_key')\n",
        "import os\n",
        "os.environ['gemini_api_key'] = gemini"
      ],
      "metadata": {
        "id": "FNnXzRciVhxR"
      },
      "execution_count": null,
      "outputs": []
    },
    {
      "cell_type": "code",
      "source": [
        "from langchain_core.prompts import ChatPromptTemplate, MessagesPlaceholder\n",
        "from langchain_google_genai import ChatGoogleGenerativeAI"
      ],
      "metadata": {
        "id": "SERMDQCWVsKM"
      },
      "execution_count": null,
      "outputs": []
    },
    {
      "cell_type": "code",
      "source": [
        "from IPython.display import Image, display\n",
        "\n",
        "from langchain_openai import ChatOpenAI\n",
        "from langchain_core.messages import SystemMessage, HumanMessage, RemoveMessage\n",
        "from langchain_core.runnables import RunnableConfig\n",
        "\n",
        "from langgraph.checkpoint.memory import MemorySaver\n",
        "from langgraph.graph import StateGraph, START, END\n",
        "from langgraph.graph import MessagesState"
      ],
      "metadata": {
        "id": "8tmM9AyyV1Y9"
      },
      "execution_count": null,
      "outputs": []
    },
    {
      "cell_type": "code",
      "source": [
        "model = ChatGoogleGenerativeAI(model='gemini-2.0-flash',api_key=gemini)"
      ],
      "metadata": {
        "id": "NcQBk0tcV4bH"
      },
      "execution_count": null,
      "outputs": []
    },
    {
      "cell_type": "markdown",
      "source": [
        "Note that we use RunnableConfig with call_model to enable token-wise streaming. This is only needed with python < 3.11. We include in case you are running this notebook in CoLab, which will use python 3.x."
      ],
      "metadata": {
        "id": "KCzc9WlTWI41"
      }
    },
    {
      "cell_type": "code",
      "source": [
        "# State\n",
        "class State(MessagesState):\n",
        "    summary: str"
      ],
      "metadata": {
        "id": "yhpXqZN6V6vG"
      },
      "execution_count": null,
      "outputs": []
    },
    {
      "cell_type": "code",
      "source": [
        "# Define the logic to call the model\n",
        "def call_model(state: State, config: RunnableConfig):\n",
        "\n",
        "    # Get summary if it exists\n",
        "    summary = state.get(\"summary\", \"\")\n",
        "\n",
        "    # If there is summary, then we add it\n",
        "    if summary:\n",
        "\n",
        "        # Add summary to system message\n",
        "        system_message = f\"Summary of conversation earlier: {summary}\"\n",
        "\n",
        "        # Append summary to any newer messages\n",
        "        messages = [SystemMessage(content=system_message)] + state[\"messages\"]\n",
        "\n",
        "    else:\n",
        "        messages = state[\"messages\"]\n",
        "\n",
        "    response = model.invoke(messages, config)\n",
        "    return {\"messages\": response}"
      ],
      "metadata": {
        "id": "2vzUKXg0V6sR"
      },
      "execution_count": null,
      "outputs": []
    },
    {
      "cell_type": "code",
      "source": [
        "def summarize_conversation(state: State):\n",
        "\n",
        "    # First, we get any existing summary\n",
        "    summary = state.get(\"summary\", \"\")\n",
        "\n",
        "    # Create our summarization prompt\n",
        "    if summary:\n",
        "\n",
        "        # A summary already exists\n",
        "        summary_message = (\n",
        "            f\"This is summary of the conversation to date: {summary}\\n\\n\"\n",
        "            \"Extend the summary by taking into account the new messages above:\"\n",
        "        )\n",
        "\n",
        "    else:\n",
        "        summary_message = \"Create a summary of the conversation above:\"\n",
        "\n",
        "    # Add prompt to our history\n",
        "    messages = state[\"messages\"] + [HumanMessage(content=summary_message)]\n",
        "    response = model.invoke(messages)\n",
        "\n",
        "    # Delete all but the 2 most recent messages\n",
        "    delete_messages = [RemoveMessage(id=m.id) for m in state[\"messages\"][:-2]]\n",
        "    return {\"summary\": response.content, \"messages\": delete_messages}"
      ],
      "metadata": {
        "id": "NfpqB_QaV6pS"
      },
      "execution_count": null,
      "outputs": []
    },
    {
      "cell_type": "code",
      "source": [
        "# Determine whether to end or summarize the conversation\n",
        "def should_continue(state: State):\n",
        "\n",
        "    \"\"\"Return the next node to execute.\"\"\"\n",
        "\n",
        "    messages = state[\"messages\"]\n",
        "\n",
        "    # If there are more than six messages, then we summarize the conversation\n",
        "    if len(messages) > 6:\n",
        "        return \"summarize_conversation\"\n",
        "\n",
        "    # Otherwise we can just end\n",
        "    return END"
      ],
      "metadata": {
        "id": "Fz2I57q4V6mK"
      },
      "execution_count": null,
      "outputs": []
    },
    {
      "cell_type": "code",
      "source": [
        "# Define a new graph\n",
        "workflow = StateGraph(State)\n",
        "workflow.add_node(\"conversation\", call_model)\n",
        "workflow.add_node(summarize_conversation,\"summarize_conversation\")\n",
        "\n",
        "# Set the entrypoint as conversation\n",
        "workflow.add_edge(START, \"conversation\")\n",
        "workflow.add_conditional_edges(\"conversation\", should_continue)\n",
        "workflow.add_edge(\"summarize_conversation\", END)\n",
        "\n",
        "# Compile\n",
        "memory = MemorySaver()\n",
        "graph = workflow.compile(checkpointer=memory)\n",
        "display(Image(graph.get_graph().draw_mermaid_png()))"
      ],
      "metadata": {
        "colab": {
          "base_uri": "https://localhost:8080/",
          "height": 281
        },
        "id": "Ey9BYBL2V6jC",
        "outputId": "87f49088-b7a2-47e4-9d00-b07c9881c60f"
      },
      "execution_count": null,
      "outputs": [
        {
          "output_type": "display_data",
          "data": {
            "image/png": "[encoded data removed]",
            "text/plain": [
              "<IPython.core.display.Image object>"
            ]
          },
          "metadata": {}
        }
      ]
    },
    {
      "cell_type": "markdown",
      "source": [
        "Two Types of streaming:\n",
        "\n",
        "values: This streams the full state of the graph after each node is called.\n",
        "\n",
        "Updates: This streams updates to the state of the graph after each node is called. we only see updates to the state after node in the graph is run."
      ],
      "metadata": {
        "id": "FsHGg6uZXaiZ"
      }
    },
    {
      "cell_type": "code",
      "source": [
        "# Create a thread\n",
        "config = {\"configurable\": {\"thread_id\": \"1\"}}\n",
        "\n",
        "# Start conversation\n",
        "for chunk in graph.stream({\"messages\": [HumanMessage(content=\"hi! I'm Lance\")]}, config, stream_mode=\"updates\"):\n",
        "    print(chunk)"
      ],
      "metadata": {
        "colab": {
          "base_uri": "https://localhost:8080/"
        },
        "id": "Hjk9Ar8PV6gD",
        "outputId": "7b5667f3-25d0-4417-85db-4b57231f8507"
      },
      "execution_count": null,
      "outputs": [
        {
          "output_type": "stream",
          "name": "stdout",
          "text": [
            "{'conversation': {'messages': AIMessage(content=\"Hi Lance! It's nice to meet you. How can I help you today?\", additional_kwargs={}, response_metadata={'prompt_feedback': {'block_reason': 0, 'safety_ratings': []}, 'finish_reason': 'STOP', 'model_name': 'gemini-2.0-flash', 'safety_ratings': []}, id='run--01110867-24d2-4a56-ac6e-f04fe650a8e8-0', usage_metadata={'input_tokens': 6, 'output_tokens': 19, 'total_tokens': 25, 'input_token_details': {'cache_read': 0}})}}\n"
          ]
        }
      ]
    },
    {
      "cell_type": "code",
      "source": [
        "# Start conversation\n",
        "for chunk in graph.stream({\"messages\": [HumanMessage(content=\"hi! I'm Lance\")]}, config, stream_mode=\"updates\"):\n",
        "    chunk['conversation'][\"messages\"].pretty_print()"
      ],
      "metadata": {
        "colab": {
          "base_uri": "https://localhost:8080/"
        },
        "id": "yRSnWfcwV6c6",
        "outputId": "7db31499-ab04-4657-f047-87a3abfea4a9"
      },
      "execution_count": null,
      "outputs": [
        {
          "output_type": "stream",
          "name": "stdout",
          "text": [
            "==================================\u001b[1m Ai Message \u001b[0m==================================\n",
            "\n",
            "Hi Lance! It's good to meet you. What can I do for you today?\n"
          ]
        }
      ]
    },
    {
      "cell_type": "code",
      "source": [
        "# Start conversation, again\n",
        "config = {\"configurable\": {\"thread_id\": \"2\"}}\n",
        "\n",
        "# Start conversation\n",
        "input_message = HumanMessage(content=\"hi! I'm Lance\")\n",
        "for event in graph.stream({\"messages\": [input_message]}, config, stream_mode=\"values\"):\n",
        "    for m in event['messages']:\n",
        "        m.pretty_print()\n",
        "    print(\"---\"*25)"
      ],
      "metadata": {
        "colab": {
          "base_uri": "https://localhost:8080/"
        },
        "id": "zPIbrTZrX4jy",
        "outputId": "7ccf7809-bcae-40cf-b2a6-d7092be8c515"
      },
      "execution_count": null,
      "outputs": [
        {
          "output_type": "stream",
          "name": "stdout",
          "text": [
            "================================\u001b[1m Human Message \u001b[0m=================================\n",
            "\n",
            "hi! I'm Lance\n",
            "---------------------------------------------------------------------------\n",
            "================================\u001b[1m Human Message \u001b[0m=================================\n",
            "\n",
            "hi! I'm Lance\n",
            "==================================\u001b[1m Ai Message \u001b[0m==================================\n",
            "\n",
            "Hi Lance! It's nice to meet you. How can I help you today?\n",
            "---------------------------------------------------------------------------\n"
          ]
        }
      ]
    },
    {
      "cell_type": "markdown",
      "source": [
        "# Streaming Tokens"
      ],
      "metadata": {
        "id": "u_SOQYHYYHJT"
      }
    },
    {
      "cell_type": "code",
      "source": [
        "config = {\"configurable\": {\"thread_id\": \"3\"}}\n",
        "input_message = HumanMessage(content=\"Tell me about the 49ers NFL team\")\n",
        "async for event in graph.astream_events({\"messages\": [input_message]}, config, version=\"v2\"):\n",
        "    print(f\"Node: {event['metadata'].get('langgraph_node','')}. Type: {event['event']}. Name: {event['name']}\")"
      ],
      "metadata": {
        "colab": {
          "base_uri": "https://localhost:8080/"
        },
        "id": "oTXgLhPzYAXh",
        "outputId": "64f9c219-18e3-487d-f833-6f7109bc13dc"
      },
      "execution_count": null,
      "outputs": [
        {
          "output_type": "stream",
          "name": "stdout",
          "text": [
            "Node: . Type: on_chain_start. Name: LangGraph\n",
            "Node: conversation. Type: on_chain_start. Name: conversation\n",
            "Node: conversation. Type: on_chat_model_start. Name: ChatGoogleGenerativeAI\n",
            "Node: conversation. Type: on_chat_model_stream. Name: ChatGoogleGenerativeAI\n",
            "Node: conversation. Type: on_chat_model_stream. Name: ChatGoogleGenerativeAI\n",
            "Node: conversation. Type: on_chat_model_stream. Name: ChatGoogleGenerativeAI\n",
            "Node: conversation. Type: on_chat_model_stream. Name: ChatGoogleGenerativeAI\n",
            "Node: conversation. Type: on_chat_model_stream. Name: ChatGoogleGenerativeAI\n",
            "Node: conversation. Type: on_chat_model_stream. Name: ChatGoogleGenerativeAI\n",
            "Node: conversation. Type: on_chat_model_stream. Name: ChatGoogleGenerativeAI\n",
            "Node: conversation. Type: on_chat_model_stream. Name: ChatGoogleGenerativeAI\n",
            "Node: conversation. Type: on_chat_model_stream. Name: ChatGoogleGenerativeAI\n",
            "Node: conversation. Type: on_chat_model_stream. Name: ChatGoogleGenerativeAI\n",
            "Node: conversation. Type: on_chat_model_stream. Name: ChatGoogleGenerativeAI\n",
            "Node: conversation. Type: on_chat_model_stream. Name: ChatGoogleGenerativeAI\n",
            "Node: conversation. Type: on_chat_model_stream. Name: ChatGoogleGenerativeAI\n",
            "Node: conversation. Type: on_chat_model_stream. Name: ChatGoogleGenerativeAI\n",
            "Node: conversation. Type: on_chat_model_stream. Name: ChatGoogleGenerativeAI\n",
            "Node: conversation. Type: on_chat_model_stream. Name: ChatGoogleGenerativeAI\n",
            "Node: conversation. Type: on_chat_model_stream. Name: ChatGoogleGenerativeAI\n",
            "Node: conversation. Type: on_chat_model_stream. Name: ChatGoogleGenerativeAI\n",
            "Node: conversation. Type: on_chat_model_stream. Name: ChatGoogleGenerativeAI\n",
            "Node: conversation. Type: on_chat_model_stream. Name: ChatGoogleGenerativeAI\n",
            "Node: conversation. Type: on_chat_model_stream. Name: ChatGoogleGenerativeAI\n",
            "Node: conversation. Type: on_chat_model_stream. Name: ChatGoogleGenerativeAI\n",
            "Node: conversation. Type: on_chat_model_stream. Name: ChatGoogleGenerativeAI\n",
            "Node: conversation. Type: on_chat_model_stream. Name: ChatGoogleGenerativeAI\n",
            "Node: conversation. Type: on_chat_model_stream. Name: ChatGoogleGenerativeAI\n",
            "Node: conversation. Type: on_chat_model_stream. Name: ChatGoogleGenerativeAI\n",
            "Node: conversation. Type: on_chat_model_end. Name: ChatGoogleGenerativeAI\n",
            "Node: conversation. Type: on_chain_start. Name: should_continue\n",
            "Node: conversation. Type: on_chain_end. Name: should_continue\n",
            "Node: conversation. Type: on_chain_stream. Name: conversation\n",
            "Node: conversation. Type: on_chain_end. Name: conversation\n",
            "Node: . Type: on_chain_stream. Name: LangGraph\n",
            "Node: . Type: on_chain_end. Name: LangGraph\n"
          ]
        }
      ]
    },
    {
      "cell_type": "code",
      "source": [
        "node_to_stream = 'conversation'\n",
        "config = {\"configurable\": {\"thread_id\": \"4\"}}\n",
        "input_message = HumanMessage(content=\"Tell me about the 49ers NFL team\")\n",
        "async for event in graph.astream_events({\"messages\": [input_message]}, config, version=\"v2\"):\n",
        "    # Get chat model tokens from a particular node\n",
        "    if event[\"event\"] == \"on_chat_model_stream\" and event['metadata'].get('langgraph_node','') == node_to_stream:\n",
        "        print(event[\"data\"])"
      ],
      "metadata": {
        "colab": {
          "base_uri": "https://localhost:8080/"
        },
        "id": "A83q9NP6YQZr",
        "outputId": "cf13980c-8cda-415b-de07-3cc6cdcd6e9b"
      },
      "execution_count": null,
      "outputs": [
        {
          "output_type": "stream",
          "name": "stdout",
          "text": [
            "{'chunk': AIMessageChunk(content='Alright', additional_kwargs={}, response_metadata={'safety_ratings': []}, id='run--46110685-c79c-4734-a3cb-98cddaa6417d', usage_metadata={'input_tokens': 11, 'output_tokens': 0, 'total_tokens': 11, 'input_token_details': {'cache_read': 0}})}\n",
            "{'chunk': AIMessageChunk(content=\", here's a breakdown of the San Francisco 49ers:\\n\\n**General\", additional_kwargs={}, response_metadata={'safety_ratings': []}, id='run--46110685-c79c-4734-a3cb-98cddaa6417d', usage_metadata={'input_tokens': 0, 'output_tokens': 0, 'total_tokens': 0, 'input_token_details': {'cache_read': 0}})}\n",
            "{'chunk': AIMessageChunk(content=' Overview**\\n\\n*   **Team Name:** San Francisco 49ers (often', additional_kwargs={}, response_metadata={'safety_ratings': []}, id='run--46110685-c79c-4734-a3cb-98cddaa6417d', usage_metadata={'input_tokens': 0, 'output_tokens': 0, 'total_tokens': 0, 'input_token_details': {'cache_read': 0}})}\n",
            "{'chunk': AIMessageChunk(content=' shortened to 49ers or Niners)\\n*   **Location:** Santa Clara, California (part of the San Francisco Bay Area)\\n*   **League', additional_kwargs={}, response_metadata={'safety_ratings': []}, id='run--46110685-c79c-4734-a3cb-98cddaa6417d', usage_metadata={'input_tokens': 0, 'output_tokens': 0, 'total_tokens': 0, 'input_token_details': {'cache_read': 0}})}\n",
            "{'chunk': AIMessageChunk(content=':** National Football League (NFL)\\n*   **Conference:** National Football Conference (NFC)\\n*   **Division:** NFC West\\n*   **Founded', additional_kwargs={}, response_metadata={'safety_ratings': []}, id='run--46110685-c79c-4734-a3cb-98cddaa6417d', usage_metadata={'input_tokens': 0, 'output_tokens': 0, 'total_tokens': 0, 'input_token_details': {'cache_read': 0}})}\n",
            "{'chunk': AIMessageChunk(content=\":** 1946 (as part of the All-America Football Conference (AAFC), joined the NFL in 1950)\\n*   **Home Stadium:** Levi's Stadium (opened in 2014)\\n\", additional_kwargs={}, response_metadata={'safety_ratings': []}, id='run--46110685-c79c-4734-a3cb-98cddaa6417d', usage_metadata={'input_tokens': 0, 'output_tokens': 0, 'total_tokens': 0, 'input_token_details': {'cache_read': 0}})}\n",
            "{'chunk': AIMessageChunk(content='*   **Team Colors:** Red, Gold, White\\n*   **Mascot:** Sourdough Sam\\n\\n**Franchise History and Success**\\n\\n*   **Early Years (AAFC/NFL):** The 49ers', additional_kwargs={}, response_metadata={'safety_ratings': []}, id='run--46110685-c79c-4734-a3cb-98cddaa6417d', usage_metadata={'input_tokens': 0, 'output_tokens': 0, 'total_tokens': 0, 'input_token_details': {'cache_read': 0}})}\n",
            "{'chunk': AIMessageChunk(content=' were one of the first major professional sports teams based in San Francisco. They had some success in the AAFC but struggled initially after joining the NFL.\\n*   **\"The Catch\" Era (1980s):** The 1980s marked the beginning of a dynasty. Led by quarterback Joe Montana', additional_kwargs={}, response_metadata={'safety_ratings': []}, id='run--46110685-c79c-4734-a3cb-98cddaa6417d', usage_metadata={'input_tokens': 0, 'output_tokens': 0, 'total_tokens': 0, 'input_token_details': {'cache_read': 0}})}\n",
            "{'chunk': AIMessageChunk(content=' and head coach Bill Walsh, the 49ers revolutionized the game with the \"West Coast Offense,\" emphasizing short, precise passes and ball control. This era is best known for \"The Catch,\" a game-winning touchdown pass from Montana to Dwight Clark in the 1981 NFC Championship game against the Dallas', additional_kwargs={}, response_metadata={'safety_ratings': []}, id='run--46110685-c79c-4734-a3cb-98cddaa6417d', usage_metadata={'input_tokens': 0, 'output_tokens': 0, 'total_tokens': 0, 'input_token_details': {'cache_read': 0}})}\n",
            "{'chunk': AIMessageChunk(content=\" Cowboys.\\n*   **Steve Young Era (1990s):** After Montana's departure, Steve Young took over as quarterback and continued the dynasty. Under coach George Seifert, the 49ers won Super Bowl XXIX in dominant fashion.\\n*   **Recent History:** After a period of struggles in\", additional_kwargs={}, response_metadata={'safety_ratings': []}, id='run--46110685-c79c-4734-a3cb-98cddaa6417d', usage_metadata={'input_tokens': 0, 'output_tokens': 0, 'total_tokens': 0, 'input_token_details': {'cache_read': 0}})}\n",
            "{'chunk': AIMessageChunk(content=' the late 1990s and early 2000s, the 49ers have had periods of resurgence. They reached Super Bowl XLVII in 2013 under coach Jim Harbaugh but lost to the Baltimore Ravens. In 2020, they reached Super Bowl LIV under', additional_kwargs={}, response_metadata={'safety_ratings': []}, id='run--46110685-c79c-4734-a3cb-98cddaa6417d', usage_metadata={'input_tokens': 0, 'output_tokens': 0, 'total_tokens': 0, 'input_token_details': {'cache_read': 0}})}\n",
            "{'chunk': AIMessageChunk(content=' coach Kyle Shanahan, losing to the Kansas City Chiefs.\\n*   **Super Bowl Appearances/Wins:**\\n    *   Super Bowl XVI (1982): Won vs. Cincinnati Bengals\\n    *   Super Bowl XIX (1985): Won vs. Miami Dolphins\\n    *   Super Bowl XXIII', additional_kwargs={}, response_metadata={'safety_ratings': []}, id='run--46110685-c79c-4734-a3cb-98cddaa6417d', usage_metadata={'input_tokens': 0, 'output_tokens': 0, 'total_tokens': 0, 'input_token_details': {'cache_read': 0}})}\n",
            "{'chunk': AIMessageChunk(content=' (1989): Won vs. Cincinnati Bengals\\n    *   Super Bowl XXIV (1990): Won vs. Denver Broncos\\n    *   Super Bowl XXIX (1995): Won vs. San Diego Chargers\\n    *   Super Bowl XLVII (2013): Lost', additional_kwargs={}, response_metadata={'safety_ratings': []}, id='run--46110685-c79c-4734-a3cb-98cddaa6417d', usage_metadata={'input_tokens': 0, 'output_tokens': 0, 'total_tokens': 0, 'input_token_details': {'cache_read': 0}})}\n",
            "{'chunk': AIMessageChunk(content=' vs. Baltimore Ravens\\n    *   Super Bowl LIV (2020): Lost vs. Kansas City Chiefs\\n\\n**Key Figures (Past and Present)**\\n\\n*   **Joe Montana:** Arguably one of the greatest quarterbacks of all time. Led the 49ers to four Super Bowl victories.\\n*   **', additional_kwargs={}, response_metadata={'safety_ratings': []}, id='run--46110685-c79c-4734-a3cb-98cddaa6417d', usage_metadata={'input_tokens': 0, 'output_tokens': 0, 'total_tokens': 0, 'input_token_details': {'cache_read': 0}})}\n",
            "{'chunk': AIMessageChunk(content=\"Steve Young:** Another Hall of Fame quarterback who continued the 49ers' success after Montana.\\n*   **Jerry Rice:** Widely considered the greatest wide receiver in NFL history. Played a significant role in the 49ers' dynasty years.\\n*   **Ronnie Lott:** A hard-hitting safety and\", additional_kwargs={}, response_metadata={'safety_ratings': []}, id='run--46110685-c79c-4734-a3cb-98cddaa6417d', usage_metadata={'input_tokens': 0, 'output_tokens': 0, 'total_tokens': 0, 'input_token_details': {'cache_read': 0}})}\n",
            "{'chunk': AIMessageChunk(content=' defensive leader for the 49ers.\\n*   **Bill Walsh:** The innovative head coach who developed the West Coast Offense and led the 49ers to their first Super Bowl wins.\\n*   **George Seifert:** The head coach who succeeded Walsh and led the 49ers to another Super Bowl victory', additional_kwargs={}, response_metadata={'safety_ratings': []}, id='run--46110685-c79c-4734-a3cb-98cddaa6417d', usage_metadata={'input_tokens': 0, 'output_tokens': 0, 'total_tokens': 0, 'input_token_details': {'cache_read': 0}})}\n",
            "{'chunk': AIMessageChunk(content='.\\n*   **Kyle Shanahan:** The current head coach known for his offensive play-calling.\\n*   **John Lynch:** The current general manager and Hall of Fame safety.\\n*   **Brock Purdy:** The current starting quarterback, drafted last overall in the 2022 draft, dubbed', additional_kwargs={}, response_metadata={'safety_ratings': []}, id='run--46110685-c79c-4734-a3cb-98cddaa6417d', usage_metadata={'input_tokens': 0, 'output_tokens': 0, 'total_tokens': 0, 'input_token_details': {'cache_read': 0}})}\n",
            "{'chunk': AIMessageChunk(content=' \"Mr. Irrelevant.\"\\n*   **Christian McCaffrey:** The current star running back for the team.\\n*   **Nick Bosa:** One of the team\\'s defensive stars.\\n\\n**Rivalries**\\n\\n*   **Dallas Cowboys:** A classic rivalry dating back to the 1970', additional_kwargs={}, response_metadata={'safety_ratings': []}, id='run--46110685-c79c-4734-a3cb-98cddaa6417d', usage_metadata={'input_tokens': 0, 'output_tokens': 0, 'total_tokens': 0, 'input_token_details': {'cache_read': 0}})}\n",
            "{'chunk': AIMessageChunk(content=\"s and 1980s, with many memorable playoff matchups.\\n*   **Seattle Seahawks:** A more recent rivalry that has become intense in the NFC West.\\n*   **Los Angeles Rams:** Another NFC West rivalry.\\n\\n**Levi's Stadium**\\n\\n*   Opened in 2014 in\", additional_kwargs={}, response_metadata={'safety_ratings': []}, id='run--46110685-c79c-4734-a3cb-98cddaa6417d', usage_metadata={'input_tokens': 0, 'output_tokens': 0, 'total_tokens': 0, 'input_token_details': {'cache_read': 0}})}\n",
            "{'chunk': AIMessageChunk(content=' Santa Clara, California.\\n*   Has hosted Super Bowl 50.\\n*   Known for its modern facilities and technology.\\n*   Has been criticized for its lack of shade and heat during certain times of the year.\\n\\n**Overall**\\n\\nThe San Francisco 49ers are one of the most', additional_kwargs={}, response_metadata={'safety_ratings': []}, id='run--46110685-c79c-4734-a3cb-98cddaa6417d', usage_metadata={'input_tokens': 0, 'output_tokens': 0, 'total_tokens': 0, 'input_token_details': {'cache_read': 0}})}\n",
            "{'chunk': AIMessageChunk(content=\" successful and iconic franchises in NFL history. They have a rich tradition, a passionate fan base, and a legacy of innovation and excellence. They are known for their high-powered offenses, strong defenses, and a history of winning championships.\\n\\nIs there anything else you'd like to know about the 49ers\", additional_kwargs={}, response_metadata={'safety_ratings': []}, id='run--46110685-c79c-4734-a3cb-98cddaa6417d', usage_metadata={'input_tokens': 0, 'output_tokens': 0, 'total_tokens': 0, 'input_token_details': {'cache_read': 0}})}\n",
            "{'chunk': AIMessageChunk(content='?  For example, are you interested in their current roster, coaching staff, recent performance, specific players, or anything else?\\n', additional_kwargs={}, response_metadata={'finish_reason': 'STOP', 'model_name': 'gemini-2.0-flash', 'safety_ratings': []}, id='run--46110685-c79c-4734-a3cb-98cddaa6417d', usage_metadata={'input_tokens': -1, 'output_tokens': 1132, 'total_tokens': 1131, 'input_token_details': {'cache_read': 0}})}\n"
          ]
        }
      ]
    },
    {
      "cell_type": "markdown",
      "source": [
        "# Breakpoints"
      ],
      "metadata": {
        "id": "YfF5DGXVZI3f"
      }
    },
    {
      "cell_type": "markdown",
      "source": [
        "For human-in-the-loop, we often want to see our graph outputs as its running."
      ],
      "metadata": {
        "id": "b4DcwraJZPj2"
      }
    },
    {
      "cell_type": "markdown",
      "source": [
        "Reason for Human-In-The-Loop:\n",
        "\n",
        "1. Approval : We can interrupt our agent and allow user to approve an action.\n",
        "\n",
        "2. Debugging : We can rewind the graph to reproduce or avoid issues.\n",
        "\n",
        "3. Editing : You can modify the state."
      ],
      "metadata": {
        "id": "Vp8KYPIRZSoa"
      }
    },
    {
      "cell_type": "markdown",
      "source": [
        "Breakpoints : Simple way to stop the graph at specific step."
      ],
      "metadata": {
        "id": "Lt8aJq6gZ5gs"
      }
    },
    {
      "cell_type": "code",
      "source": [
        "%%capture --no-stderr\n",
        "%pip install --quiet -U langgraph langchain_openai langgraph_sdk langgraph-prebuilt"
      ],
      "metadata": {
        "id": "7IEr1w4zYejM"
      },
      "execution_count": null,
      "outputs": []
    },
    {
      "cell_type": "markdown",
      "source": [
        "Breakpoints for human approval : when we are concerned about tool use, We want to approve agents to use any of its tools.\n",
        "\n",
        "All we need to do is simply compile the graph with **interrupt_before=[\"tools\"]** where tools is our tools node.\n",
        "\n",
        "This means that the execution will be interrupted before the node tools, which executes the tool call."
      ],
      "metadata": {
        "id": "NeM3VgNBaNnt"
      }
    },
    {
      "cell_type": "code",
      "source": [
        "def multiply(a: int, b: int) -> int:\n",
        "    \"\"\"Multiply a and b.\n",
        "\n",
        "    Args:\n",
        "        a: first int\n",
        "        b: second int\n",
        "    \"\"\"\n",
        "    return a * b\n",
        "\n",
        "# This will be a tool\n",
        "def add(a: int, b: int) -> int:\n",
        "    \"\"\"Adds a and b.\n",
        "\n",
        "    Args:\n",
        "        a: first int\n",
        "        b: second int\n",
        "    \"\"\"\n",
        "    return a + b\n",
        "\n",
        "def divide(a: int, b: int) -> float:\n",
        "    \"\"\"Divide a by b.\n",
        "\n",
        "    Args:\n",
        "        a: first int\n",
        "        b: second int\n",
        "    \"\"\"\n",
        "    return a / b\n",
        "\n",
        "tools = [add, multiply, divide]"
      ],
      "metadata": {
        "id": "ymkS-6tfaC4m"
      },
      "execution_count": null,
      "outputs": []
    },
    {
      "cell_type": "code",
      "source": [
        "model = ChatGoogleGenerativeAI(model='gemini-2.0-flash',api_key=gemini)\n",
        "llm_with_tools = model.bind_tools(tools)"
      ],
      "metadata": {
        "id": "ypUxTZWYatQj"
      },
      "execution_count": null,
      "outputs": []
    },
    {
      "cell_type": "code",
      "source": [
        "from IPython.display import Image, display\n",
        "\n",
        "from langgraph.checkpoint.memory import MemorySaver\n",
        "from langgraph.graph import MessagesState\n",
        "from langgraph.graph import START, StateGraph\n",
        "from langgraph.prebuilt import tools_condition, ToolNode\n",
        "\n",
        "from langchain_core.messages import AIMessage, HumanMessage, SystemMessage"
      ],
      "metadata": {
        "id": "xv9Qzw17a246"
      },
      "execution_count": null,
      "outputs": []
    },
    {
      "cell_type": "code",
      "source": [
        "# System message\n",
        "sys_msg = SystemMessage(content=\"You are a helpful assistant tasked with performing arithmetic on a set of inputs.\")\n",
        "\n",
        "# Node\n",
        "def assistant(state: MessagesState):\n",
        "   return {\"messages\": [llm_with_tools.invoke([sys_msg] + state[\"messages\"])]}"
      ],
      "metadata": {
        "id": "Hki1KGWga-F0"
      },
      "execution_count": null,
      "outputs": []
    },
    {
      "cell_type": "code",
      "source": [
        "# Graph\n",
        "builder = StateGraph(MessagesState)"
      ],
      "metadata": {
        "id": "FGRIbQVnbRPw"
      },
      "execution_count": null,
      "outputs": []
    },
    {
      "cell_type": "code",
      "source": [
        "# Define nodes: these do the work\n",
        "builder.add_node(\"assistant\", assistant)\n",
        "builder.add_node(\"tools\", ToolNode(tools))"
      ],
      "metadata": {
        "colab": {
          "base_uri": "https://localhost:8080/"
        },
        "id": "bcK2Qaq0bbeA",
        "outputId": "7e6e4d17-78e8-41d6-9801-983e03b5b54d"
      },
      "execution_count": null,
      "outputs": [
        {
          "output_type": "execute_result",
          "data": {
            "text/plain": [
              "<langgraph.graph.state.StateGraph at 0x7967757399d0>"
            ]
          },
          "metadata": {},
          "execution_count": 26
        }
      ]
    },
    {
      "cell_type": "code",
      "source": [
        "# Define edges: these determine the control flow\n",
        "builder.add_edge(START, \"assistant\")\n",
        "builder.add_conditional_edges(\n",
        "    \"assistant\",\n",
        "    # If the latest message (result) from assistant is a tool call -> tools_condition routes to tools\n",
        "    # If the latest message (result) from assistant is a not a tool call -> tools_condition routes to END\n",
        "    tools_condition,\n",
        ")\n",
        "builder.add_edge(\"tools\", \"assistant\")"
      ],
      "metadata": {
        "colab": {
          "base_uri": "https://localhost:8080/"
        },
        "id": "6ODtp4cIbe-A",
        "outputId": "d9cc7bdb-b6ff-455c-c893-94232808226f"
      },
      "execution_count": null,
      "outputs": [
        {
          "output_type": "execute_result",
          "data": {
            "text/plain": [
              "<langgraph.graph.state.StateGraph at 0x7967757399d0>"
            ]
          },
          "metadata": {},
          "execution_count": 27
        }
      ]
    },
    {
      "cell_type": "code",
      "source": [
        "memory = MemorySaver()\n",
        "graph = builder.compile(interrupt_before=[\"tools\"], checkpointer=memory)\n",
        "\n",
        "# Show\n",
        "display(Image(graph.get_graph(xray=True).draw_mermaid_png()))"
      ],
      "metadata": {
        "colab": {
          "base_uri": "https://localhost:8080/",
          "height": 308
        },
        "id": "ozz-qxqTblNA",
        "outputId": "c05f0ef3-20b6-454b-b860-6e5b043f5ad7"
      },
      "execution_count": null,
      "outputs": [
        {
          "output_type": "display_data",
          "data": {
            "image/png": "[encoded data removed]",
            "text/plain": [
              "<IPython.core.display.Image object>"
            ]
          },
          "metadata": {}
        }
      ]
    },
    {
      "cell_type": "code",
      "source": [
        "# Input\n",
        "initial_input = {\"messages\": HumanMessage(content=\"Multiply 2 and 3\")}\n",
        "\n",
        "# Thread\n",
        "thread = {\"configurable\": {\"thread_id\": \"1\"}}\n",
        "\n",
        "# Run the graph until the first interruption\n",
        "for event in graph.stream(initial_input, thread, stream_mode=\"values\"):\n",
        "    event['messages'][-1].pretty_print()"
      ],
      "metadata": {
        "colab": {
          "base_uri": "https://localhost:8080/"
        },
        "id": "ARbToSjdbuhF",
        "outputId": "049c6cef-aa19-40ef-b5e4-dcca067d9bac"
      },
      "execution_count": null,
      "outputs": [
        {
          "output_type": "stream",
          "name": "stdout",
          "text": [
            "================================\u001b[1m Human Message \u001b[0m=================================\n",
            "\n",
            "Multiply 2 and 3\n",
            "==================================\u001b[1m Ai Message \u001b[0m==================================\n",
            "Tool Calls:\n",
            "  multiply (b6ce31d7-0128-4852-a46e-fec6397a1bc7)\n",
            " Call ID: b6ce31d7-0128-4852-a46e-fec6397a1bc7\n",
            "  Args:\n",
            "    a: 2.0\n",
            "    b: 3.0\n"
          ]
        }
      ]
    },
    {
      "cell_type": "code",
      "source": [
        "state = graph.get_state(thread)\n",
        "state.next"
      ],
      "metadata": {
        "colab": {
          "base_uri": "https://localhost:8080/"
        },
        "id": "VctjCmG9b4rk",
        "outputId": "c7c672af-49e6-479f-8cb0-b007dba0a837"
      },
      "execution_count": null,
      "outputs": [
        {
          "output_type": "execute_result",
          "data": {
            "text/plain": [
              "('tools',)"
            ]
          },
          "metadata": {},
          "execution_count": 30
        }
      ]
    },
    {
      "cell_type": "markdown",
      "source": [
        "When we invoke the graph with None, it will just continue from the last state checkpoint."
      ],
      "metadata": {
        "id": "BwVlNxcmcMBk"
      }
    },
    {
      "cell_type": "markdown",
      "source": [
        "Graph : Control flow of nodes and edges.\n",
        "\n",
        "Super-Steps: Each sequential node is a separate superstep where each parallel nodes shares same super step.\n",
        "\n",
        "Checkpoints: State and relevent metadata packed at every super step.\n",
        "\n",
        "Thread: Collection of checkpoints.\n",
        "\n",
        "StateSnapshot : Type for checkpoint.\n",
        "\n",
        "Graph.get_state() : Current checkpoint.\n",
        "\n",
        "Graph.get_state_history() : List of all checkpoints.\n",
        "\n",
        "Graph.stream(None, (thread_id)): Execute the graph from the current state."
      ],
      "metadata": {
        "id": "gFPlGnQscVlo"
      }
    },
    {
      "cell_type": "code",
      "source": [
        "for event in graph.stream(None, thread, stream_mode=\"values\"):\n",
        "    event['messages'][-1].pretty_print()"
      ],
      "metadata": {
        "colab": {
          "base_uri": "https://localhost:8080/"
        },
        "id": "DRfWx7NMcHdW",
        "outputId": "26382d71-65bb-4ded-8377-cab52ebf4eec"
      },
      "execution_count": null,
      "outputs": [
        {
          "output_type": "stream",
          "name": "stdout",
          "text": [
            "==================================\u001b[1m Ai Message \u001b[0m==================================\n",
            "Tool Calls:\n",
            "  multiply (b6ce31d7-0128-4852-a46e-fec6397a1bc7)\n",
            " Call ID: b6ce31d7-0128-4852-a46e-fec6397a1bc7\n",
            "  Args:\n",
            "    a: 2.0\n",
            "    b: 3.0\n",
            "=================================\u001b[1m Tool Message \u001b[0m=================================\n",
            "Name: multiply\n",
            "\n",
            "6\n",
            "==================================\u001b[1m Ai Message \u001b[0m==================================\n",
            "\n",
            "The result of multiplying 2 and 3 is 6.\n"
          ]
        }
      ]
    },
    {
      "cell_type": "markdown",
      "source": [
        "## a specific user approval step that accepts user input."
      ],
      "metadata": {
        "id": "gK1haBHYdgHL"
      }
    },
    {
      "cell_type": "code",
      "source": [
        "# Input\n",
        "initial_input = {\"messages\": HumanMessage(content=\"Multiply 2 and 3\")}\n",
        "\n",
        "# Thread\n",
        "thread = {\"configurable\": {\"thread_id\": \"2\"}}\n",
        "\n",
        "# Run the graph until the first interruption\n",
        "for event in graph.stream(initial_input, thread, stream_mode=\"values\"):\n",
        "    event['messages'][-1].pretty_print()"
      ],
      "metadata": {
        "colab": {
          "base_uri": "https://localhost:8080/"
        },
        "id": "Y9t9-GVGdcJT",
        "outputId": "3576f3ee-708d-4786-acb2-7a98731d125b"
      },
      "execution_count": null,
      "outputs": [
        {
          "output_type": "stream",
          "name": "stdout",
          "text": [
            "================================\u001b[1m Human Message \u001b[0m=================================\n",
            "\n",
            "Multiply 2 and 3\n",
            "==================================\u001b[1m Ai Message \u001b[0m==================================\n",
            "Tool Calls:\n",
            "  multiply (2119fb0c-b331-4110-88ab-f914557da0cb)\n",
            " Call ID: 2119fb0c-b331-4110-88ab-f914557da0cb\n",
            "  Args:\n",
            "    a: 2.0\n",
            "    b: 3.0\n"
          ]
        }
      ]
    },
    {
      "cell_type": "code",
      "source": [
        "# Get user feedback\n",
        "user_approval = input(\"Do you want to call the tool? (yes/no): \")\n",
        "\n",
        "# Check approval\n",
        "if user_approval.lower() == \"yes\":\n",
        "\n",
        "    # If approved, continue the graph execution\n",
        "    for event in graph.stream(None, thread, stream_mode=\"values\"):\n",
        "        event['messages'][-1].pretty_print()\n",
        "\n",
        "else:\n",
        "    print(\"Operation cancelled by user.\")"
      ],
      "metadata": {
        "colab": {
          "base_uri": "https://localhost:8080/"
        },
        "id": "2VzznsLDd91P",
        "outputId": "ec2258b1-0955-4438-ee48-805890b715bd"
      },
      "execution_count": null,
      "outputs": [
        {
          "output_type": "stream",
          "name": "stdout",
          "text": [
            "Do you want to call the tool? (yes/no): yes\n",
            "==================================\u001b[1m Ai Message \u001b[0m==================================\n",
            "Tool Calls:\n",
            "  multiply (2119fb0c-b331-4110-88ab-f914557da0cb)\n",
            " Call ID: 2119fb0c-b331-4110-88ab-f914557da0cb\n",
            "  Args:\n",
            "    a: 2.0\n",
            "    b: 3.0\n",
            "=================================\u001b[1m Tool Message \u001b[0m=================================\n",
            "Name: multiply\n",
            "\n",
            "6\n",
            "==================================\u001b[1m Ai Message \u001b[0m==================================\n",
            "\n",
            "The result of multiplying 2 and 3 is 6.\n"
          ]
        }
      ]
    },
    {
      "cell_type": "markdown",
      "source": [
        "# Dynamic BreakPoints"
      ],
      "metadata": {
        "id": "ml9YjgxneOwt"
      }
    },
    {
      "cell_type": "markdown",
      "source": [
        " sometimes it is helpful to allow the graph dynamically interrupt itself!\n",
        "\n",
        "This is an internal breakpoint, and can be achieved using ***NodeInterrupt***"
      ],
      "metadata": {
        "id": "VVsISziogbRd"
      }
    },
    {
      "cell_type": "markdown",
      "source": [
        "(1) you can do it conditionally (from inside a node based on developer-defined logic).\n",
        "\n",
        "(2) you can communicate to the user why its interrupted (by passing whatever you want to the NodeInterrupt)."
      ],
      "metadata": {
        "id": "hbiOA0XdgoHX"
      }
    },
    {
      "cell_type": "markdown",
      "source": [
        "Nodeinterrupt is used inside a node."
      ],
      "metadata": {
        "id": "I-R1AW89hAx9"
      }
    },
    {
      "cell_type": "code",
      "source": [
        "from IPython.display import Image, display\n",
        "\n",
        "from typing_extensions import TypedDict\n",
        "from langgraph.checkpoint.memory import MemorySaver\n",
        "from langgraph.errors import NodeInterrupt\n",
        "from langgraph.graph import START, END, StateGraph"
      ],
      "metadata": {
        "id": "f0lGnVF8eJVc"
      },
      "execution_count": null,
      "outputs": []
    },
    {
      "cell_type": "code",
      "source": [
        "class State(TypedDict):\n",
        "    input: str"
      ],
      "metadata": {
        "id": "Wk7X5fSkguF0"
      },
      "execution_count": null,
      "outputs": []
    },
    {
      "cell_type": "code",
      "source": [
        "def step_1(state: State) -> State:\n",
        "    print(\"---Step 1---\")\n",
        "    return state\n",
        "\n",
        "def step_2(state: State) -> State:\n",
        "    # Let's optionally raise a NodeInterrupt if the length of the input is longer than 5 characters\n",
        "    if len(state['input']) > 5:\n",
        "        raise NodeInterrupt(f\"Received input that is longer than 5 characters: {state['input']}\")\n",
        "\n",
        "    print(\"---Step 2---\")\n",
        "    return state\n",
        "\n",
        "def step_3(state: State) -> State:\n",
        "    print(\"---Step 3---\")\n",
        "    return state"
      ],
      "metadata": {
        "id": "Zj1LFCdrgxqi"
      },
      "execution_count": null,
      "outputs": []
    },
    {
      "cell_type": "code",
      "source": [
        "builder = StateGraph(State)\n",
        "builder.add_node(\"step_1\", step_1)\n",
        "builder.add_node(\"step_2\", step_2)\n",
        "builder.add_node(\"step_3\", step_3)\n",
        "builder.add_edge(START, \"step_1\")\n",
        "builder.add_edge(\"step_1\", \"step_2\")\n",
        "builder.add_edge(\"step_2\", \"step_3\")\n",
        "builder.add_edge(\"step_3\", END)\n",
        "\n",
        "# Set up memory\n",
        "memory = MemorySaver()\n",
        "\n",
        "# Compile the graph with memory\n",
        "graph = builder.compile(checkpointer=memory)\n",
        "\n",
        "# View\n",
        "display(Image(graph.get_graph().draw_mermaid_png()))"
      ],
      "metadata": {
        "colab": {
          "base_uri": "https://localhost:8080/",
          "height": 449
        },
        "id": "3noIHTbqg9he",
        "outputId": "0024097d-2900-4639-b06f-75c0acd38906"
      },
      "execution_count": null,
      "outputs": [
        {
          "output_type": "display_data",
          "data": {
            "image/png": "[encoded data removed]",
            "text/plain": [
              "<IPython.core.display.Image object>"
            ]
          },
          "metadata": {}
        }
      ]
    },
    {
      "cell_type": "code",
      "source": [
        "initial_input = {\"input\": \"hello world\"}\n",
        "thread_config = {\"configurable\": {\"thread_id\": \"1\"}}\n",
        "\n",
        "# Run the graph until the first interruption\n",
        "for event in graph.stream(initial_input, thread_config, stream_mode=\"values\"):\n",
        "    print(event)"
      ],
      "metadata": {
        "colab": {
          "base_uri": "https://localhost:8080/"
        },
        "id": "tMm9lVM9hEZy",
        "outputId": "16121133-f7b0-497b-855e-5589af8d274d"
      },
      "execution_count": null,
      "outputs": [
        {
          "output_type": "stream",
          "name": "stdout",
          "text": [
            "{'input': 'hello world'}\n",
            "---Step 1---\n",
            "{'input': 'hello world'}\n"
          ]
        }
      ]
    },
    {
      "cell_type": "code",
      "source": [
        "state = graph.get_state(thread_config)\n",
        "print(state.next)"
      ],
      "metadata": {
        "colab": {
          "base_uri": "https://localhost:8080/"
        },
        "id": "d4Dar3TBhOYv",
        "outputId": "dd78f35b-6298-41b7-9736-00162fe3f6ab"
      },
      "execution_count": null,
      "outputs": [
        {
          "output_type": "stream",
          "name": "stdout",
          "text": [
            "('step_2',)\n"
          ]
        }
      ]
    },
    {
      "cell_type": "markdown",
      "source": [
        "We can see that the Interrupt is logged to state."
      ],
      "metadata": {
        "id": "w8XgvbdBhW1W"
      }
    },
    {
      "cell_type": "code",
      "source": [
        "print(state.tasks)"
      ],
      "metadata": {
        "colab": {
          "base_uri": "https://localhost:8080/"
        },
        "id": "6EngqKjYhSgD",
        "outputId": "1d20bcd9-fdc7-4456-eb8b-3b68b1a8174d"
      },
      "execution_count": null,
      "outputs": [
        {
          "output_type": "stream",
          "name": "stdout",
          "text": [
            "(PregelTask(id='6034c411-862f-13ae-866d-a1cc047e90e1', name='step_2', path=('__pregel_pull', 'step_2'), error=None, interrupts=(Interrupt(value='Received input that is longer than 5 characters: hello world', resumable=False, ns=None),), state=None, result=None),)\n"
          ]
        }
      ]
    },
    {
      "cell_type": "markdown",
      "source": [
        "We can try to resume the graph from the breakpoint.\n",
        "\n",
        "But, this just re-runs the same node!\n",
        "\n",
        "Unless state is changed we will be stuck here."
      ],
      "metadata": {
        "id": "XNrDDc47hkhS"
      }
    },
    {
      "cell_type": "code",
      "source": [
        "for event in graph.stream(None, thread_config, stream_mode=\"values\"):\n",
        "    print(event)"
      ],
      "metadata": {
        "colab": {
          "base_uri": "https://localhost:8080/"
        },
        "id": "LnSk5O2_hZM8",
        "outputId": "acbb1993-9aaf-40d7-9538-dda9b9bdd9b7"
      },
      "execution_count": null,
      "outputs": [
        {
          "output_type": "stream",
          "name": "stdout",
          "text": [
            "{'input': 'hello world'}\n"
          ]
        }
      ]
    },
    {
      "cell_type": "code",
      "source": [
        "state = graph.get_state(thread_config)\n",
        "print(state.next)"
      ],
      "metadata": {
        "colab": {
          "base_uri": "https://localhost:8080/"
        },
        "id": "JlfoqhY1hrRx",
        "outputId": "f0fbe6e6-a117-4f4a-99d0-c108d92aeae3"
      },
      "execution_count": null,
      "outputs": [
        {
          "output_type": "stream",
          "name": "stdout",
          "text": [
            "('step_2',)\n"
          ]
        }
      ]
    },
    {
      "cell_type": "markdown",
      "source": [
        "Updating the State"
      ],
      "metadata": {
        "id": "GRr_GC2uhx4x"
      }
    },
    {
      "cell_type": "code",
      "source": [
        "graph.update_state(\n",
        "    thread_config,\n",
        "    {\"input\": \"hi\"},\n",
        ")"
      ],
      "metadata": {
        "colab": {
          "base_uri": "https://localhost:8080/"
        },
        "id": "Xr8hAizkhv-u",
        "outputId": "9b43c679-6279-4c24-97c2-ecc539e4e47a"
      },
      "execution_count": null,
      "outputs": [
        {
          "output_type": "execute_result",
          "data": {
            "text/plain": [
              "{'configurable': {'thread_id': '1',\n",
              "  'checkpoint_ns': '',\n",
              "  'checkpoint_id': '1f0530ab-52a6-6688-8002-3a389222a907'}}"
            ]
          },
          "metadata": {},
          "execution_count": 43
        }
      ]
    },
    {
      "cell_type": "code",
      "source": [
        "for event in graph.stream(None, thread_config, stream_mode=\"values\"):\n",
        "    print(event)"
      ],
      "metadata": {
        "colab": {
          "base_uri": "https://localhost:8080/"
        },
        "id": "JkKpeExBh6Gy",
        "outputId": "92cb69a1-0414-40bb-9f35-b1636565368d"
      },
      "execution_count": null,
      "outputs": [
        {
          "output_type": "stream",
          "name": "stdout",
          "text": [
            "{'input': 'hi'}\n",
            "---Step 2---\n",
            "{'input': 'hi'}\n",
            "---Step 3---\n",
            "{'input': 'hi'}\n"
          ]
        }
      ]
    },
    {
      "cell_type": "markdown",
      "source": [
        "# Editing Graph State"
      ],
      "metadata": {
        "id": "Dj9CK-IAiE2o"
      }
    },
    {
      "cell_type": "markdown",
      "source": [
        "Breakpoints are also opportunities to modify the graph state."
      ],
      "metadata": {
        "id": "ChLP0yvCi3rz"
      }
    },
    {
      "cell_type": "markdown",
      "source": [
        "Let's set up our agent with a breakpoint before the assistant node."
      ],
      "metadata": {
        "id": "LziDWsoZi_9T"
      }
    },
    {
      "cell_type": "code",
      "source": [
        "def multiply(a: int, b: int) -> int:\n",
        "    \"\"\"Multiply a and b.\n",
        "\n",
        "    Args:\n",
        "        a: first int\n",
        "        b: second int\n",
        "    \"\"\"\n",
        "    return a * b\n",
        "\n",
        "# This will be a tool\n",
        "def add(a: int, b: int) -> int:\n",
        "    \"\"\"Adds a and b.\n",
        "\n",
        "    Args:\n",
        "        a: first int\n",
        "        b: second int\n",
        "    \"\"\"\n",
        "    return a + b\n",
        "\n",
        "def divide(a: int, b: int) -> float:\n",
        "    \"\"\"Divide a by b.\n",
        "\n",
        "    Args:\n",
        "        a: first int\n",
        "        b: second int\n",
        "    \"\"\"\n",
        "    return a / b\n",
        "\n",
        "\n",
        "tools = [add, multiply, divide]\n",
        "model = ChatGoogleGenerativeAI(model='gemini-2.0-flash',api_key=gemini)\n",
        "llm_with_tools = model.bind_tools(tools)"
      ],
      "metadata": {
        "id": "d2r27HT8h-Jg"
      },
      "execution_count": null,
      "outputs": []
    },
    {
      "cell_type": "code",
      "source": [
        "from IPython.display import Image, display\n",
        "\n",
        "from langgraph.checkpoint.memory import MemorySaver\n",
        "from langgraph.graph import MessagesState\n",
        "from langgraph.graph import START, StateGraph\n",
        "from langgraph.prebuilt import tools_condition, ToolNode\n",
        "\n",
        "from langchain_core.messages import HumanMessage, SystemMessage"
      ],
      "metadata": {
        "id": "wLNrUZNnjQg6"
      },
      "execution_count": null,
      "outputs": []
    },
    {
      "cell_type": "code",
      "source": [
        "# System message\n",
        "sys_msg = SystemMessage(content=\"You are a helpful assistant tasked with performing arithmetic on a set of inputs.\")\n",
        "\n",
        "# Node\n",
        "def assistant(state: MessagesState):\n",
        "   return {\"messages\": [llm_with_tools.invoke([sys_msg] + state[\"messages\"])]}\n",
        "\n",
        "# Graph\n",
        "builder = StateGraph(MessagesState)"
      ],
      "metadata": {
        "id": "xUXOFoz4jQeY"
      },
      "execution_count": null,
      "outputs": []
    },
    {
      "cell_type": "code",
      "source": [
        "# Define nodes: these do the work\n",
        "builder.add_node(\"assistant\", assistant)\n",
        "builder.add_node(\"tools\", ToolNode(tools))\n",
        "\n",
        "# Define edges: these determine the control flow\n",
        "builder.add_edge(START, \"assistant\")\n",
        "builder.add_conditional_edges(\n",
        "    \"assistant\",\n",
        "    # If the latest message (result) from assistant is a tool call -> tools_condition routes to tools\n",
        "    # If the latest message (result) from assistant is a not a tool call -> tools_condition routes to END\n",
        "    tools_condition,\n",
        ")\n",
        "builder.add_edge(\"tools\", \"assistant\")"
      ],
      "metadata": {
        "colab": {
          "base_uri": "https://localhost:8080/"
        },
        "id": "fbrf4yRsjQbs",
        "outputId": "5a95536a-2604-4b11-fc5b-1571925e8e0a"
      },
      "execution_count": null,
      "outputs": [
        {
          "output_type": "execute_result",
          "data": {
            "text/plain": [
              "<langgraph.graph.state.StateGraph at 0x7967756a6a90>"
            ]
          },
          "metadata": {},
          "execution_count": 48
        }
      ]
    },
    {
      "cell_type": "code",
      "source": [
        "memory = MemorySaver()\n",
        "graph = builder.compile(interrupt_before=[\"assistant\"], checkpointer=memory)\n",
        "\n",
        "# Show\n",
        "display(Image(graph.get_graph(xray=True).draw_mermaid_png()))"
      ],
      "metadata": {
        "colab": {
          "base_uri": "https://localhost:8080/",
          "height": 308
        },
        "id": "YcAId4f3jP-i",
        "outputId": "188b6f4b-61b4-4b22-f4e3-ce5603906518"
      },
      "execution_count": null,
      "outputs": [
        {
          "output_type": "display_data",
          "data": {
            "image/png": "[encoded data removed]",
            "text/plain": [
              "<IPython.core.display.Image object>"
            ]
          },
          "metadata": {}
        }
      ]
    },
    {
      "cell_type": "code",
      "source": [
        "# Input\n",
        "initial_input = {\"messages\": \"Multiply 2 and 3\"}\n",
        "\n",
        "# Thread\n",
        "thread = {\"configurable\": {\"thread_id\": \"1\"}}\n",
        "\n",
        "# Run the graph until the first interruption\n",
        "for event in graph.stream(initial_input, thread, stream_mode=\"values\"):\n",
        "    event['messages'][-1].pretty_print()"
      ],
      "metadata": {
        "colab": {
          "base_uri": "https://localhost:8080/"
        },
        "id": "ds_Jl6x7jjZu",
        "outputId": "f7b9983e-c66f-4e36-c569-9a962c66fa53"
      },
      "execution_count": null,
      "outputs": [
        {
          "output_type": "stream",
          "name": "stdout",
          "text": [
            "================================\u001b[1m Human Message \u001b[0m=================================\n",
            "\n",
            "Multiply 2 and 3\n"
          ]
        }
      ]
    },
    {
      "cell_type": "code",
      "source": [
        "state = graph.get_state(thread)\n",
        "state"
      ],
      "metadata": {
        "colab": {
          "base_uri": "https://localhost:8080/"
        },
        "id": "kyscxDMYjoM6",
        "outputId": "ffb65703-21c8-47eb-8907-b81df86937b7"
      },
      "execution_count": null,
      "outputs": [
        {
          "output_type": "execute_result",
          "data": {
            "text/plain": [
              "StateSnapshot(values={'messages': [HumanMessage(content='Multiply 2 and 3', additional_kwargs={}, response_metadata={}, id='509ac2f5-6608-42a6-86c0-ef6439acaf44')]}, next=('assistant',), config={'configurable': {'thread_id': '1', 'checkpoint_ns': '', 'checkpoint_id': '1f0530bc-1f3c-6c28-8000-284c33ab2a1b'}}, metadata={'source': 'loop', 'step': 0, 'parents': {}, 'thread_id': '1'}, created_at='2025-06-27T04:04:01.221104+00:00', parent_config={'configurable': {'thread_id': '1', 'checkpoint_ns': '', 'checkpoint_id': '1f0530bc-1f38-6a2a-bfff-566a7dba5726'}}, tasks=(PregelTask(id='96175aa7-9e0e-b6ed-72f0-2da36a34ee28', name='assistant', path=('__pregel_pull', 'assistant'), error=None, interrupts=(), state=None, result=None),), interrupts=())"
            ]
          },
          "metadata": {},
          "execution_count": 51
        }
      ]
    },
    {
      "cell_type": "markdown",
      "source": [
        "Now, we can directly apply a state update.\n",
        "\n",
        "Remember, updates to the messages key will use the add_messages reducer:\n",
        "\n",
        "If we want to over-write the existing message, we can supply the message id.\n",
        "\n",
        "If we simply want to append to our list of messages, then we can pass a message without an id specified, as shown below."
      ],
      "metadata": {
        "id": "T3jLvhxEj-jd"
      }
    },
    {
      "cell_type": "code",
      "source": [
        "graph.update_state(\n",
        "    thread,\n",
        "    {\"messages\": [HumanMessage(content=\"No, actually multiply 3 and 3!\")]},\n",
        ")"
      ],
      "metadata": {
        "colab": {
          "base_uri": "https://localhost:8080/"
        },
        "id": "BbAXjDxxjzTc",
        "outputId": "a4306a8d-3cef-4036-e63b-f4bc3d61db3b"
      },
      "execution_count": null,
      "outputs": [
        {
          "output_type": "execute_result",
          "data": {
            "text/plain": [
              "{'configurable': {'thread_id': '1',\n",
              "  'checkpoint_ns': '',\n",
              "  'checkpoint_id': '1f0530c0-6b31-6a0b-8001-716b479adba6'}}"
            ]
          },
          "metadata": {},
          "execution_count": 52
        }
      ]
    },
    {
      "cell_type": "markdown",
      "source": [
        "Let's have a look.\n",
        "\n",
        "We called update_state with a new message.\n",
        "\n",
        "The add_messages reducer appends it to our state key, messages."
      ],
      "metadata": {
        "id": "esIIBqCXkJed"
      }
    },
    {
      "cell_type": "code",
      "source": [
        "new_state = graph.get_state(thread).values\n",
        "for m in new_state['messages']:\n",
        "    m.pretty_print()"
      ],
      "metadata": {
        "colab": {
          "base_uri": "https://localhost:8080/"
        },
        "id": "HiXB2dS_kEXm",
        "outputId": "a5ce0ee4-010d-4d6e-fdf8-9350476d893c"
      },
      "execution_count": null,
      "outputs": [
        {
          "output_type": "stream",
          "name": "stdout",
          "text": [
            "================================\u001b[1m Human Message \u001b[0m=================================\n",
            "\n",
            "Multiply 2 and 3\n",
            "================================\u001b[1m Human Message \u001b[0m=================================\n",
            "\n",
            "No, actually multiply 3 and 3!\n"
          ]
        }
      ]
    },
    {
      "cell_type": "code",
      "source": [
        "for event in graph.stream(None, thread, stream_mode=\"values\"):\n",
        "    event['messages'][-1].pretty_print()"
      ],
      "metadata": {
        "colab": {
          "base_uri": "https://localhost:8080/"
        },
        "id": "CH5T9PChkWkL",
        "outputId": "360b244f-4f2a-487b-c63b-3b7b25712c78"
      },
      "execution_count": null,
      "outputs": [
        {
          "output_type": "stream",
          "name": "stdout",
          "text": [
            "================================\u001b[1m Human Message \u001b[0m=================================\n",
            "\n",
            "No, actually multiply 3 and 3!\n",
            "==================================\u001b[1m Ai Message \u001b[0m==================================\n",
            "Tool Calls:\n",
            "  multiply (ceb1ff12-fb4c-45fd-86aa-97a2fcd0a743)\n",
            " Call ID: ceb1ff12-fb4c-45fd-86aa-97a2fcd0a743\n",
            "  Args:\n",
            "    a: 3.0\n",
            "    b: 3.0\n",
            "=================================\u001b[1m Tool Message \u001b[0m=================================\n",
            "Name: multiply\n",
            "\n",
            "9\n"
          ]
        }
      ]
    },
    {
      "cell_type": "markdown",
      "source": [
        "Now, we're back at the assistant, which has our breakpoint.\n",
        "\n",
        "We can again pass None to proceed."
      ],
      "metadata": {
        "id": "WkYf9--akwfd"
      }
    },
    {
      "cell_type": "code",
      "source": [
        "for event in graph.stream(None, thread, stream_mode=\"values\"):\n",
        "    event['messages'][-1].pretty_print()"
      ],
      "metadata": {
        "colab": {
          "base_uri": "https://localhost:8080/"
        },
        "id": "7Rg6JzPhkjcW",
        "outputId": "f725f20b-5c5d-47c3-8cee-75a74d71b017"
      },
      "execution_count": null,
      "outputs": [
        {
          "output_type": "stream",
          "name": "stdout",
          "text": [
            "=================================\u001b[1m Tool Message \u001b[0m=================================\n",
            "Name: multiply\n",
            "\n",
            "9\n",
            "==================================\u001b[1m Ai Message \u001b[0m==================================\n",
            "\n",
            "The answer is 9.\n"
          ]
        }
      ]
    },
    {
      "cell_type": "markdown",
      "source": [
        "# Time Travel"
      ],
      "metadata": {
        "id": "B3UHaj0Gk6jj"
      }
    },
    {
      "cell_type": "markdown",
      "source": [
        "Used for Debugging by viewing, re-playing and even forking from past states."
      ],
      "metadata": {
        "id": "7DoDOY6hlIfv"
      }
    },
    {
      "cell_type": "code",
      "source": [
        "def multiply(a: int, b: int) -> int:\n",
        "    \"\"\"Multiply a and b.\n",
        "\n",
        "    Args:\n",
        "        a: first int\n",
        "        b: second int\n",
        "    \"\"\"\n",
        "    return a * b\n",
        "\n",
        "# This will be a tool\n",
        "def add(a: int, b: int) -> int:\n",
        "    \"\"\"Adds a and b.\n",
        "\n",
        "    Args:\n",
        "        a: first int\n",
        "        b: second int\n",
        "    \"\"\"\n",
        "    return a + b\n",
        "\n",
        "def divide(a: int, b: int) -> float:\n",
        "    \"\"\"Divide a by b.\n",
        "\n",
        "    Args:\n",
        "        a: first int\n",
        "        b: second int\n",
        "    \"\"\"\n",
        "    return a / b\n",
        "\n",
        "\n",
        "tools = [add, multiply, divide]\n",
        "model = ChatGoogleGenerativeAI(model='gemini-2.0-flash',api_key=gemini)\n",
        "llm_with_tools = model.bind_tools(tools)"
      ],
      "metadata": {
        "id": "VKPpUk5Vkzne"
      },
      "execution_count": null,
      "outputs": []
    },
    {
      "cell_type": "code",
      "source": [
        "from IPython.display import Image, display\n",
        "\n",
        "from langgraph.checkpoint.memory import MemorySaver\n",
        "from langgraph.graph import MessagesState\n",
        "from langgraph.graph import START, END, StateGraph\n",
        "from langgraph.prebuilt import tools_condition, ToolNode\n",
        "\n",
        "from langchain_core.messages import AIMessage, HumanMessage, SystemMessage"
      ],
      "metadata": {
        "id": "mTMSqIBilWJh"
      },
      "execution_count": null,
      "outputs": []
    },
    {
      "cell_type": "code",
      "source": [
        "# System message\n",
        "sys_msg = SystemMessage(content=\"You are a helpful assistant tasked with performing arithmetic on a set of inputs.\")\n",
        "\n",
        "# Node\n",
        "def assistant(state: MessagesState):\n",
        "   return {\"messages\": [llm_with_tools.invoke([sys_msg] + state[\"messages\"])]}"
      ],
      "metadata": {
        "id": "J2Qt9BPqlY4a"
      },
      "execution_count": null,
      "outputs": []
    },
    {
      "cell_type": "code",
      "source": [
        "# Graph\n",
        "builder = StateGraph(MessagesState)"
      ],
      "metadata": {
        "id": "cQL-OIQglZ5M"
      },
      "execution_count": null,
      "outputs": []
    },
    {
      "cell_type": "code",
      "source": [
        "# Define nodes: these do the work\n",
        "builder.add_node(\"assistant\", assistant)\n",
        "builder.add_node(\"tools\", ToolNode(tools))\n",
        "\n",
        "# Define edges: these determine the control flow\n",
        "builder.add_edge(START, \"assistant\")\n",
        "builder.add_conditional_edges(\n",
        "    \"assistant\",\n",
        "    # If the latest message (result) from assistant is a tool call -> tools_condition routes to tools\n",
        "    # If the latest message (result) from assistant is a not a tool call -> tools_condition routes to END\n",
        "    tools_condition,\n",
        ")\n",
        "builder.add_edge(\"tools\", \"assistant\")"
      ],
      "metadata": {
        "colab": {
          "base_uri": "https://localhost:8080/"
        },
        "id": "x4Wex_e0lZ2o",
        "outputId": "041f235f-d6c5-4ac6-80ce-251c338bce2c"
      },
      "execution_count": null,
      "outputs": [
        {
          "output_type": "execute_result",
          "data": {
            "text/plain": [
              "<langgraph.graph.state.StateGraph at 0x796768b20150>"
            ]
          },
          "metadata": {},
          "execution_count": 60
        }
      ]
    },
    {
      "cell_type": "code",
      "source": [
        "memory = MemorySaver()\n",
        "graph = builder.compile(checkpointer=MemorySaver())\n",
        "\n",
        "# Show\n",
        "display(Image(graph.get_graph(xray=True).draw_mermaid_png()))"
      ],
      "metadata": {
        "colab": {
          "base_uri": "https://localhost:8080/",
          "height": 266
        },
        "id": "59thbVtElZz9",
        "outputId": "362d2e29-9c9e-489f-e2eb-87023a194859"
      },
      "execution_count": null,
      "outputs": [
        {
          "output_type": "display_data",
          "data": {
            "image/png": "[encoded data removed]",
            "text/plain": [
              "<IPython.core.display.Image object>"
            ]
          },
          "metadata": {}
        }
      ]
    },
    {
      "cell_type": "code",
      "source": [
        "# Input\n",
        "initial_input = {\"messages\": HumanMessage(content=\"Multiply 2 and 3\")}\n",
        "\n",
        "# Thread\n",
        "thread = {\"configurable\": {\"thread_id\": \"1\"}}\n",
        "\n",
        "# Run the graph until the first interruption\n",
        "for event in graph.stream(initial_input, thread, stream_mode=\"values\"):\n",
        "    event['messages'][-1].pretty_print()"
      ],
      "metadata": {
        "colab": {
          "base_uri": "https://localhost:8080/"
        },
        "id": "2fiyj9Z8lZxH",
        "outputId": "8ede1188-874c-435a-b65a-4427bf321040"
      },
      "execution_count": null,
      "outputs": [
        {
          "output_type": "stream",
          "name": "stdout",
          "text": [
            "================================\u001b[1m Human Message \u001b[0m=================================\n",
            "\n",
            "Multiply 2 and 3\n",
            "==================================\u001b[1m Ai Message \u001b[0m==================================\n",
            "Tool Calls:\n",
            "  multiply (22a2f067-6741-4345-962c-6f75e98cd9ba)\n",
            " Call ID: 22a2f067-6741-4345-962c-6f75e98cd9ba\n",
            "  Args:\n",
            "    a: 2.0\n",
            "    b: 3.0\n",
            "=================================\u001b[1m Tool Message \u001b[0m=================================\n",
            "Name: multiply\n",
            "\n",
            "6\n",
            "==================================\u001b[1m Ai Message \u001b[0m==================================\n",
            "\n",
            "The result of multiplying 2 and 3 is 6.\n"
          ]
        }
      ]
    },
    {
      "cell_type": "markdown",
      "source": [
        "Browsing History : We can use get_state to look at the current state of our graph, given the thread_id!."
      ],
      "metadata": {
        "id": "G_ZKqbvXmkJr"
      }
    },
    {
      "cell_type": "code",
      "source": [
        "graph.get_state({'configurable': {'thread_id': '1'}})"
      ],
      "metadata": {
        "colab": {
          "base_uri": "https://localhost:8080/"
        },
        "id": "GeVRb5ZmlZum",
        "outputId": "3fa8b7cc-9b3f-4e33-fa14-1c7dca815804"
      },
      "execution_count": null,
      "outputs": [
        {
          "output_type": "execute_result",
          "data": {
            "text/plain": [
              "StateSnapshot(values={'messages': [HumanMessage(content='Multiply 2 and 3', additional_kwargs={}, response_metadata={}, id='b4940f98-9b54-41d3-91c2-ea0c39261684'), AIMessage(content='', additional_kwargs={'function_call': {'name': 'multiply', 'arguments': '{\"a\": 2.0, \"b\": 3.0}'}}, response_metadata={'prompt_feedback': {'block_reason': 0, 'safety_ratings': []}, 'finish_reason': 'STOP', 'model_name': 'gemini-2.0-flash', 'safety_ratings': []}, id='run--f8b76cbe-c10f-467a-8e8c-76370e170d85-0', tool_calls=[{'name': 'multiply', 'args': {'a': 2.0, 'b': 3.0}, 'id': '22a2f067-6741-4345-962c-6f75e98cd9ba', 'type': 'tool_call'}], usage_metadata={'input_tokens': 72, 'output_tokens': 5, 'total_tokens': 77, 'input_token_details': {'cache_read': 0}}), ToolMessage(content='6', name='multiply', id='d5eb6651-16c4-4197-b460-6c614f9a9bd1', tool_call_id='22a2f067-6741-4345-962c-6f75e98cd9ba'), AIMessage(content='The result of multiplying 2 and 3 is 6.', additional_kwargs={}, response_metadata={'prompt_feedback': {'block_reason': 0, 'safety_ratings': []}, 'finish_reason': 'STOP', 'model_name': 'gemini-2.0-flash', 'safety_ratings': []}, id='run--d6a0ee6c-d7da-45a8-b5db-2f3a8a3a3967-0', usage_metadata={'input_tokens': 80, 'output_tokens': 14, 'total_tokens': 94, 'input_token_details': {'cache_read': 0}})]}, next=(), config={'configurable': {'thread_id': '1', 'checkpoint_ns': '', 'checkpoint_id': '1f0530d8-66f1-65ea-8003-e24603c57477'}}, metadata={'source': 'loop', 'step': 3, 'parents': {}, 'thread_id': '1'}, created_at='2025-06-27T04:16:40.359243+00:00', parent_config={'configurable': {'thread_id': '1', 'checkpoint_ns': '', 'checkpoint_id': '1f0530d8-623f-6eb6-8002-34880a1186f7'}}, tasks=(), interrupts=())"
            ]
          },
          "metadata": {},
          "execution_count": 63
        }
      ]
    },
    {
      "cell_type": "markdown",
      "source": [
        "We can also browse the state history of our agent.\n",
        "\n",
        "get_state_history lets us get the state at all prior steps."
      ],
      "metadata": {
        "id": "W1fUJ8uOmt5E"
      }
    },
    {
      "cell_type": "code",
      "source": [
        "all_states = [s for s in graph.get_state_history(thread)]"
      ],
      "metadata": {
        "id": "_C8a7yx5lZr-"
      },
      "execution_count": null,
      "outputs": []
    },
    {
      "cell_type": "code",
      "source": [
        "len(all_states)"
      ],
      "metadata": {
        "colab": {
          "base_uri": "https://localhost:8080/"
        },
        "id": "ngeAe83vlZpa",
        "outputId": "4cfd7b56-1777-4e5e-b4f7-ecd79a291be9"
      },
      "execution_count": null,
      "outputs": [
        {
          "output_type": "execute_result",
          "data": {
            "text/plain": [
              "5"
            ]
          },
          "metadata": {},
          "execution_count": 65
        }
      ]
    },
    {
      "cell_type": "code",
      "source": [
        "all_states[-2]"
      ],
      "metadata": {
        "colab": {
          "base_uri": "https://localhost:8080/"
        },
        "id": "Pi06CzYnlZmo",
        "outputId": "5836b0b3-9b97-4c2c-8348-2fbcd9ad780b"
      },
      "execution_count": null,
      "outputs": [
        {
          "output_type": "execute_result",
          "data": {
            "text/plain": [
              "StateSnapshot(values={'messages': [HumanMessage(content='Multiply 2 and 3', additional_kwargs={}, response_metadata={}, id='b4940f98-9b54-41d3-91c2-ea0c39261684')]}, next=('assistant',), config={'configurable': {'thread_id': '1', 'checkpoint_ns': '', 'checkpoint_id': '1f0530d8-5aea-658a-8000-f7217698ea3c'}}, metadata={'source': 'loop', 'step': 0, 'parents': {}, 'thread_id': '1'}, created_at='2025-06-27T04:16:39.098080+00:00', parent_config={'configurable': {'thread_id': '1', 'checkpoint_ns': '', 'checkpoint_id': '1f0530d8-5ae6-6241-bfff-a278405ed125'}}, tasks=(PregelTask(id='dd001367-f2b3-0dbd-45c6-61edc4f1b4b9', name='assistant', path=('__pregel_pull', 'assistant'), error=None, interrupts=(), state=None, result={'messages': [AIMessage(content='', additional_kwargs={'function_call': {'name': 'multiply', 'arguments': '{\"a\": 2.0, \"b\": 3.0}'}}, response_metadata={'prompt_feedback': {'block_reason': 0, 'safety_ratings': []}, 'finish_reason': 'STOP', 'model_name': 'gemini-2.0-flash', 'safety_ratings': []}, id='run--f8b76cbe-c10f-467a-8e8c-76370e170d85-0', tool_calls=[{'name': 'multiply', 'args': {'a': 2.0, 'b': 3.0}, 'id': '22a2f067-6741-4345-962c-6f75e98cd9ba', 'type': 'tool_call'}], usage_metadata={'input_tokens': 72, 'output_tokens': 5, 'total_tokens': 77, 'input_token_details': {'cache_read': 0}})]}),), interrupts=())"
            ]
          },
          "metadata": {},
          "execution_count": 75
        }
      ]
    },
    {
      "cell_type": "code",
      "source": [
        "l = [1,2,3,4,5]"
      ],
      "metadata": {
        "id": "Nbld48UEm6Uk"
      },
      "execution_count": null,
      "outputs": []
    },
    {
      "cell_type": "code",
      "source": [
        "l[-2]"
      ],
      "metadata": {
        "colab": {
          "base_uri": "https://localhost:8080/"
        },
        "id": "FWmfQhV3nln5",
        "outputId": "20d7d963-00ff-4c9b-be1c-d56d1e78d7e9"
      },
      "execution_count": null,
      "outputs": [
        {
          "output_type": "execute_result",
          "data": {
            "text/plain": [
              "4"
            ]
          },
          "metadata": {},
          "execution_count": 73
        }
      ]
    },
    {
      "cell_type": "markdown",
      "source": [
        "We can re-run our agent from any of the prior steps."
      ],
      "metadata": {
        "id": "Mb1CfLIMnyAu"
      }
    },
    {
      "cell_type": "markdown",
      "source": [
        "Let's look back at the step that recieved human input!"
      ],
      "metadata": {
        "id": "iG8nsPovn2U1"
      }
    },
    {
      "cell_type": "code",
      "source": [
        "to_replay = all_states[-2]"
      ],
      "metadata": {
        "id": "0-iHHd1nnmn1"
      },
      "execution_count": null,
      "outputs": []
    },
    {
      "cell_type": "code",
      "source": [
        "to_replay.values"
      ],
      "metadata": {
        "colab": {
          "base_uri": "https://localhost:8080/"
        },
        "id": "M8CGxNn1n7ZE",
        "outputId": "66a22f7f-2854-473e-bde6-6f2cfbb5bafa"
      },
      "execution_count": null,
      "outputs": [
        {
          "output_type": "execute_result",
          "data": {
            "text/plain": [
              "{'messages': [HumanMessage(content='Multiply 2 and 3', additional_kwargs={}, response_metadata={}, id='b4940f98-9b54-41d3-91c2-ea0c39261684')]}"
            ]
          },
          "metadata": {},
          "execution_count": 87
        }
      ]
    },
    {
      "cell_type": "markdown",
      "source": [
        "We can see the next node to call."
      ],
      "metadata": {
        "id": "ImLnWtVbolJc"
      }
    },
    {
      "cell_type": "code",
      "source": [
        "to_replay.next"
      ],
      "metadata": {
        "colab": {
          "base_uri": "https://localhost:8080/"
        },
        "id": "sSQFIhKxoHXA",
        "outputId": "a22e513f-18e6-4b8c-8605-c8daf7e76817"
      },
      "execution_count": null,
      "outputs": [
        {
          "output_type": "execute_result",
          "data": {
            "text/plain": [
              "('assistant',)"
            ]
          },
          "metadata": {},
          "execution_count": 88
        }
      ]
    },
    {
      "cell_type": "markdown",
      "source": [
        "We also get the config, which tells us the checkpoint_id as well as the thread_id."
      ],
      "metadata": {
        "id": "SkkW_j61opZN"
      }
    },
    {
      "cell_type": "code",
      "source": [
        "to_replay.config"
      ],
      "metadata": {
        "colab": {
          "base_uri": "https://localhost:8080/"
        },
        "id": "loksz4ssom4r",
        "outputId": "343d54b0-5eb4-4def-853c-c02f0b3f7c6d"
      },
      "execution_count": null,
      "outputs": [
        {
          "output_type": "execute_result",
          "data": {
            "text/plain": [
              "{'configurable': {'thread_id': '1',\n",
              "  'checkpoint_ns': '',\n",
              "  'checkpoint_id': '1f0530d8-5aea-658a-8000-f7217698ea3c'}}"
            ]
          },
          "metadata": {},
          "execution_count": 89
        }
      ]
    },
    {
      "cell_type": "markdown",
      "source": [
        "To replay from here, we simply pass the config back to the agent!\n",
        "\n",
        "The graph knows that this checkpoint has aleady been executed.\n",
        "\n",
        "It just re-plays from this checkpoint!"
      ],
      "metadata": {
        "id": "oJfK3M_bowQO"
      }
    },
    {
      "cell_type": "code",
      "source": [
        "for event in graph.stream(None, to_replay.config, stream_mode=\"values\"):\n",
        "    event['messages'][-1].pretty_print()"
      ],
      "metadata": {
        "colab": {
          "base_uri": "https://localhost:8080/"
        },
        "id": "Ws8wcov2orcF",
        "outputId": "8660480b-5160-47c7-f23d-f50df9e44f12"
      },
      "execution_count": null,
      "outputs": [
        {
          "output_type": "stream",
          "name": "stdout",
          "text": [
            "================================\u001b[1m Human Message \u001b[0m=================================\n",
            "\n",
            "Multiply 2 and 3\n",
            "==================================\u001b[1m Ai Message \u001b[0m==================================\n",
            "Tool Calls:\n",
            "  multiply (1fdfd5d6-2b8c-41fb-ba67-3194361d5e23)\n",
            " Call ID: 1fdfd5d6-2b8c-41fb-ba67-3194361d5e23\n",
            "  Args:\n",
            "    a: 2.0\n",
            "    b: 3.0\n",
            "=================================\u001b[1m Tool Message \u001b[0m=================================\n",
            "Name: multiply\n",
            "\n",
            "6\n",
            "==================================\u001b[1m Ai Message \u001b[0m==================================\n",
            "\n",
            "The result of multiplying 2 and 3 is 6.\n"
          ]
        }
      ]
    },
    {
      "cell_type": "markdown",
      "source": [
        "# Forking"
      ],
      "metadata": {
        "id": "elePah75o5ox"
      }
    },
    {
      "cell_type": "markdown",
      "source": [
        "If we want to run from that same step but with a different input, this is called forking."
      ],
      "metadata": {
        "id": "pOoWv4Ubo7nv"
      }
    },
    {
      "cell_type": "code",
      "source": [
        "to_fork = all_states[-2]\n",
        "to_fork.values[\"messages\"]"
      ],
      "metadata": {
        "colab": {
          "base_uri": "https://localhost:8080/"
        },
        "id": "zlg2-72ao2Gz",
        "outputId": "fa0793da-7bac-4a8c-8bd1-5f30774b0d3b"
      },
      "execution_count": null,
      "outputs": [
        {
          "output_type": "execute_result",
          "data": {
            "text/plain": [
              "[HumanMessage(content='Multiply 2 and 3', additional_kwargs={}, response_metadata={}, id='b4940f98-9b54-41d3-91c2-ea0c39261684')]"
            ]
          },
          "metadata": {},
          "execution_count": 95
        }
      ]
    },
    {
      "cell_type": "code",
      "source": [
        "to_fork.config"
      ],
      "metadata": {
        "colab": {
          "base_uri": "https://localhost:8080/"
        },
        "id": "7HLYTZFQpF0R",
        "outputId": "f60da6fc-6090-4f0f-9900-ce52106f042e"
      },
      "execution_count": null,
      "outputs": [
        {
          "output_type": "execute_result",
          "data": {
            "text/plain": [
              "{'configurable': {'thread_id': '1',\n",
              "  'checkpoint_ns': '',\n",
              "  'checkpoint_id': '1f0530d8-5aea-658a-8000-f7217698ea3c'}}"
            ]
          },
          "metadata": {},
          "execution_count": 96
        }
      ]
    },
    {
      "cell_type": "markdown",
      "source": [
        "Let's modify the state at this checkpoint.\n",
        "\n",
        "We can just run update_state with the checkpoint_id supplied.\n",
        "\n",
        "Remember how our reducer on messages works:\n",
        "\n",
        "It will append, unless we supply a message ID.\n",
        "\n",
        "We supply the message ID to overwrite the message, rather than appending to state!\n",
        "\n",
        "So, to overwrite the the message, we just supply the message ID, which we have\n",
        "\n",
        "to_fork.values[\"messages\"].id."
      ],
      "metadata": {
        "id": "KlO_2PPDpXtK"
      }
    },
    {
      "cell_type": "code",
      "source": [
        "fork_config = graph.update_state(\n",
        "    to_fork.config,\n",
        "    {\"messages\": [HumanMessage(content='Multiply 5 and 3',\n",
        "                               id=to_fork.values[\"messages\"][0].id)]},\n",
        ")"
      ],
      "metadata": {
        "id": "OwyG7ASbpQq-"
      },
      "execution_count": null,
      "outputs": []
    },
    {
      "cell_type": "code",
      "source": [
        "fork_config"
      ],
      "metadata": {
        "colab": {
          "base_uri": "https://localhost:8080/"
        },
        "id": "0zuuAy3-pzPw",
        "outputId": "b0f6d9f6-010f-4de5-bd38-ff1eaa28faf2"
      },
      "execution_count": null,
      "outputs": [
        {
          "output_type": "execute_result",
          "data": {
            "text/plain": [
              "{'configurable': {'thread_id': '1',\n",
              "  'checkpoint_ns': '',\n",
              "  'checkpoint_id': '1f0530f8-668d-62f9-8001-e995af0c4d27'}}"
            ]
          },
          "metadata": {},
          "execution_count": 98
        }
      ]
    },
    {
      "cell_type": "markdown",
      "source": [
        "his creates a new, forked checkpoint.\n",
        "\n",
        "But, the metadata - e.g., where to go next - is perserved!\n",
        "\n",
        "We can see the current state of our agent has been updated with our fork."
      ],
      "metadata": {
        "id": "lS3KEEcLp6dr"
      }
    },
    {
      "cell_type": "code",
      "source": [
        "all_states = [state for state in graph.get_state_history(thread) ]\n",
        "all_states[0].values[\"messages\"]"
      ],
      "metadata": {
        "colab": {
          "base_uri": "https://localhost:8080/"
        },
        "id": "ltgoSXvCp2QJ",
        "outputId": "e7ecbae5-dcef-4e7f-f4d0-31a9fc9bbd9c"
      },
      "execution_count": null,
      "outputs": [
        {
          "output_type": "execute_result",
          "data": {
            "text/plain": [
              "[HumanMessage(content='Multiply 5 and 3', additional_kwargs={}, response_metadata={}, id='b4940f98-9b54-41d3-91c2-ea0c39261684')]"
            ]
          },
          "metadata": {},
          "execution_count": 99
        }
      ]
    },
    {
      "cell_type": "code",
      "source": [
        "graph.get_state({'configurable': {'thread_id': '1'}})"
      ],
      "metadata": {
        "colab": {
          "base_uri": "https://localhost:8080/"
        },
        "id": "JJs7IGLTqCOo",
        "outputId": "a6743bb5-ac67-4b9f-e512-51d210b7e84e"
      },
      "execution_count": null,
      "outputs": [
        {
          "output_type": "execute_result",
          "data": {
            "text/plain": [
              "StateSnapshot(values={'messages': [HumanMessage(content='Multiply 5 and 3', additional_kwargs={}, response_metadata={}, id='b4940f98-9b54-41d3-91c2-ea0c39261684')]}, next=('assistant',), config={'configurable': {'thread_id': '1', 'checkpoint_ns': '', 'checkpoint_id': '1f0530f8-668d-62f9-8001-e995af0c4d27'}}, metadata={'source': 'update', 'step': 1, 'parents': {}, 'thread_id': '1'}, created_at='2025-06-27T04:30:59.311674+00:00', parent_config={'configurable': {'thread_id': '1', 'checkpoint_ns': '', 'checkpoint_id': '1f0530d8-5aea-658a-8000-f7217698ea3c'}}, tasks=(PregelTask(id='599fc5a7-5bff-c81a-07bd-6c63897109c4', name='assistant', path=('__pregel_pull', 'assistant'), error=None, interrupts=(), state=None, result=None),), interrupts=())"
            ]
          },
          "metadata": {},
          "execution_count": 100
        }
      ]
    },
    {
      "cell_type": "code",
      "source": [
        "for event in graph.stream(None, fork_config, stream_mode=\"values\"):\n",
        "    event['messages'][-1].pretty_print()"
      ],
      "metadata": {
        "colab": {
          "base_uri": "https://localhost:8080/"
        },
        "id": "Ae14J9A3qEb4",
        "outputId": "10af4635-d095-4c79-8ea2-83f84fc74dc1"
      },
      "execution_count": null,
      "outputs": [
        {
          "output_type": "stream",
          "name": "stdout",
          "text": [
            "================================\u001b[1m Human Message \u001b[0m=================================\n",
            "\n",
            "Multiply 5 and 3\n",
            "==================================\u001b[1m Ai Message \u001b[0m==================================\n",
            "Tool Calls:\n",
            "  multiply (12fd0211-4fa9-4717-a47f-cd387005fc18)\n",
            " Call ID: 12fd0211-4fa9-4717-a47f-cd387005fc18\n",
            "  Args:\n",
            "    a: 5.0\n",
            "    b: 3.0\n",
            "=================================\u001b[1m Tool Message \u001b[0m=================================\n",
            "Name: multiply\n",
            "\n",
            "15\n",
            "==================================\u001b[1m Ai Message \u001b[0m==================================\n",
            "\n",
            "The result of multiplying 5 and 3 is 15.\n"
          ]
        }
      ]
    },
    {
      "cell_type": "code",
      "source": [
        "graph.get_state({'configurable': {'thread_id': '1'}})"
      ],
      "metadata": {
        "colab": {
          "base_uri": "https://localhost:8080/"
        },
        "id": "yUZL3ZtWqIKO",
        "outputId": "bca7649f-2682-44f0-b41c-7cb8e9942645"
      },
      "execution_count": null,
      "outputs": [
        {
          "output_type": "execute_result",
          "data": {
            "text/plain": [
              "StateSnapshot(values={'messages': [HumanMessage(content='Multiply 5 and 3', additional_kwargs={}, response_metadata={}, id='b4940f98-9b54-41d3-91c2-ea0c39261684'), AIMessage(content='', additional_kwargs={'function_call': {'name': 'multiply', 'arguments': '{\"a\": 5.0, \"b\": 3.0}'}}, response_metadata={'prompt_feedback': {'block_reason': 0, 'safety_ratings': []}, 'finish_reason': 'STOP', 'model_name': 'gemini-2.0-flash', 'safety_ratings': []}, id='run--c9beb688-2488-4f9e-819e-84fe04a2b81a-0', tool_calls=[{'name': 'multiply', 'args': {'a': 5.0, 'b': 3.0}, 'id': '12fd0211-4fa9-4717-a47f-cd387005fc18', 'type': 'tool_call'}], usage_metadata={'input_tokens': 72, 'output_tokens': 5, 'total_tokens': 77, 'input_token_details': {'cache_read': 0}}), ToolMessage(content='15', name='multiply', id='9ddb22db-602e-4a6b-b1df-555a419d2ea4', tool_call_id='12fd0211-4fa9-4717-a47f-cd387005fc18'), AIMessage(content='The result of multiplying 5 and 3 is 15.', additional_kwargs={}, response_metadata={'prompt_feedback': {'block_reason': 0, 'safety_ratings': []}, 'finish_reason': 'STOP', 'model_name': 'gemini-2.0-flash', 'safety_ratings': []}, id='run--0821540a-8691-41ee-9552-859eb81fa7c6-0', usage_metadata={'input_tokens': 80, 'output_tokens': 15, 'total_tokens': 95, 'input_token_details': {'cache_read': 0}})]}, next=(), config={'configurable': {'thread_id': '1', 'checkpoint_ns': '', 'checkpoint_id': '1f0530fb-a3e5-67bb-8004-e562682ef83c'}}, metadata={'source': 'loop', 'step': 4, 'parents': {}, 'thread_id': '1'}, created_at='2025-06-27T04:32:26.274779+00:00', parent_config={'configurable': {'thread_id': '1', 'checkpoint_ns': '', 'checkpoint_id': '1f0530fb-9f9d-668d-8003-83b5a83b5805'}}, tasks=(), interrupts=())"
            ]
          },
          "metadata": {},
          "execution_count": 102
        }
      ]
    },
    {
      "cell_type": "code",
      "source": [],
      "metadata": {
        "id": "QDZU1JWOqLZ8"
      },
      "execution_count": null,
      "outputs": []
    }
  ]
}